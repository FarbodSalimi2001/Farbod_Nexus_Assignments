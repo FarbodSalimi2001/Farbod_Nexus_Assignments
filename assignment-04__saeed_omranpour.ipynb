{
  "nbformat": 4,
  "nbformat_minor": 0,
  "metadata": {
    "colab": {
      "provenance": []
    },
    "kernelspec": {
      "name": "python3",
      "display_name": "Python 3"
    },
    "language_info": {
      "name": "python"
    }
  },
  "cells": [
    {
      "cell_type": "markdown",
      "source": [
        "# 📓 Assignment 4 — Linear Algebra Fundamentals\n",
        "\n",
        "*Vectors & Matrices for Everyday Coding*\n",
        "\n"
      ],
      "metadata": {
        "id": "A1k4HkdO05Yu"
      }
    },
    {
      "cell_type": "markdown",
      "source": [
        "## Welcome back, intrepid coder! 🚀\n",
        "In this notebook-styled brief you’ll move from single-direction vectors to multi-direction matrices—core tools behind graphics, robotics, optimisation and (of course) machine-learning. Each mini-section mixes quick notes, a tiny real-world scenario, and hands-on # TODO code shaped for beginners.\n"
      ],
      "metadata": {
        "id": "mBNupqPj1B1_"
      }
    },
    {
      "cell_type": "markdown",
      "source": [
        "## 🧭 Vectors 101\n",
        "\n",
        "| Concept             | Quick reminder                                  |\n",
        "|---------------------|--------------------------------------------------|\n",
        "| Representation      | 1-D NumPy array — `np.array([x, y, z])`         |\n",
        "| Length (norm)       | `np.linalg.norm(v)`                             |\n",
        "| Dot / inner product | `v.dot(w)` or `np.inner(v, w)`                  |\n",
        "| Unit vector         | `v / np.linalg.norm(v)`                         |\n"
      ],
      "metadata": {
        "id": "zD-AyQCe1Y9e"
      }
    },
    {
      "cell_type": "code",
      "execution_count": 2,
      "metadata": {
        "id": "AWVTIlQP0ysC",
        "colab": {
          "base_uri": "https://localhost:8080/"
        },
        "outputId": "b86a9cae-1d07-4048-a418-567015d80a8f"
      },
      "outputs": [
        {
          "output_type": "stream",
          "name": "stdout",
          "text": [
            "3.7416573867739413\n",
            "32\n"
          ]
        }
      ],
      "source": [
        "# Run once per session\n",
        "import numpy as np\n",
        "\n",
        "# TODO 1: create a 3-D vector named v\n",
        "v = np.array([1, 2, 3])\n",
        "# TODO 2: print its length\n",
        "print(np.linalg.norm(v))\n",
        "# TODO 3: build a second vector w and output the dot product\n",
        "w = np.array([4, 5, 6])\n",
        "print(v.dot(w))"
      ]
    },
    {
      "cell_type": "markdown",
      "source": [
        "### 🚁 Practical Scenario — “Drone hop”\n",
        "A mini-drone lifts off at (2 m, 1 m) and lands at (7 m, 4 m).\n",
        "Calculate its displacement vector, travel distance, and orientation along the x-axis."
      ],
      "metadata": {
        "id": "c_iB5_0A1rg7"
      }
    },
    {
      "cell_type": "code",
      "source": [
        "p_start = np.array([2, 1])\n",
        "p_end   = np.array([7, 4])\n",
        "\n",
        "# displacement\n",
        "d = p_end - p_start          # ➡️ vector from start to end\n",
        "dist = np.linalg.norm(d)     # 🏁 distance travelled\n",
        "unit = d / dist              # ↗️ unit direction\n",
        "dot_x = d.dot(np.array([1, 0]))  # projection on x-axis\n",
        "\n",
        "print(\"Displacement:\", d)\n",
        "print(\"Distance:\", dist)\n",
        "print(\"Unit direction:\", unit)\n",
        "print(\"Dot-product with x-axis:\", dot_x)\n"
      ],
      "metadata": {
        "id": "Rq-tHCkF1x3p"
      },
      "execution_count": null,
      "outputs": []
    },
    {
      "cell_type": "markdown",
      "source": [
        "## 🔢 Matrices 101\n",
        "\n",
        "| Operation              | NumPy one-liner                                  |\n",
        "|------------------------|--------------------------------------------------|\n",
        "| Transpose              | `A.T`                                            |\n",
        "| Determinant            | `np.linalg.det(A)`                               |\n",
        "| Inverse                | `np.linalg.inv(A)` (works only if `det(A) ≠ 0`)  |\n",
        "| Matrix-vector multiply | `A @ v`                                          |\n",
        "| Matrix-matrix multiply | `A @ B`                                          |\n"
      ],
      "metadata": {
        "id": "vqX_pXGq16Af"
      }
    },
    {
      "cell_type": "code",
      "source": [
        "# TODO 4: build a 2×2 matrix A\n",
        "A = np.array([[1, 2],\n",
        "              [3, 4]])\n",
        "# TODO 5: print its determinant\n",
        "print(np.linalg.det(A))\n",
        "# TODO 6: if invertible, compute and print A_inv\n",
        "A_inv = np.linalg.inv(A)\n",
        "print(A_inv)"
      ],
      "metadata": {
        "id": "yycidpaj2BAv",
        "colab": {
          "base_uri": "https://localhost:8080/"
        },
        "outputId": "6eea18ed-015b-4bee-fcdf-24ff48d95012"
      },
      "execution_count": 3,
      "outputs": [
        {
          "output_type": "stream",
          "name": "stdout",
          "text": [
            "-2.0000000000000004\n",
            "[[-2.   1. ]\n",
            " [ 1.5 -0.5]]\n"
          ]
        }
      ]
    },
    {
      "cell_type": "markdown",
      "source": [
        "### 🎯 Practical Scenario — “Rotate that hop”\n",
        "Rotate the drone’s displacement vector 30° counter-clockwise, then verify that the inverse rotation brings it back."
      ],
      "metadata": {
        "id": "C-ikgDhF2DFn"
      }
    },
    {
      "cell_type": "code",
      "source": [
        "theta = np.deg2rad(30)          # 🔄 convert degrees to radians\n",
        "R = np.array([[np.cos(theta), -np.sin(theta)],\n",
        "              [np.sin(theta),  np.cos(theta)]])\n",
        "\n",
        "det_R = np.linalg.det(R)        # should be 1.0 (pure rotation)\n",
        "d = np.array([1, 0])\n",
        "d_rot  = R @ d                  # rotated displacement\n",
        "d_back = np.linalg.inv(R) @ d_rot\n",
        "\n",
        "print(\"Rotation matrix determinant:\", det_R)\n",
        "print(\"Rotated vector:\", d_rot)\n",
        "print(\"Back-rotated equals original?\", np.allclose(d_back, d))\n"
      ],
      "metadata": {
        "id": "SgmIesbf2G65",
        "colab": {
          "base_uri": "https://localhost:8080/"
        },
        "outputId": "2af96902-09ae-489d-e8a7-2eb45db1ffbe"
      },
      "execution_count": 10,
      "outputs": [
        {
          "output_type": "stream",
          "name": "stdout",
          "text": [
            "Rotation matrix determinant: 1.0\n",
            "Rotated vector: [0.8660254 0.5      ]\n",
            "Back-rotated equals original? True\n"
          ]
        }
      ]
    }
  ]
}