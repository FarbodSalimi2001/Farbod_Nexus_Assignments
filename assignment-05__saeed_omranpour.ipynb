{
  "nbformat": 4,
  "nbformat_minor": 0,
  "metadata": {
    "colab": {
      "provenance": []
    },
    "kernelspec": {
      "name": "python3",
      "display_name": "Python 3"
    },
    "language_info": {
      "name": "python"
    }
  },
  "cells": [
    {
      "cell_type": "markdown",
      "source": [
        "# 📓 Assignment 5 — Probability\n",
        "\n",
        "## 🎲 Counting & Probability with Cards in Python 🃏\n",
        "Learn factorials, combinations, and (conditional) probability — all in one simple card game simulation using only math and random modules."
      ],
      "metadata": {
        "id": "tacMQNsG2g5S"
      }
    },
    {
      "cell_type": "markdown",
      "source": [
        "## 🧮 PART 1: Factorial & Combinations\n",
        "\n"
      ],
      "metadata": {
        "id": "_cA_dWDJ2vfr"
      }
    },
    {
      "cell_type": "code",
      "execution_count": 1,
      "metadata": {
        "id": "aIxoWeNt2ao0",
        "colab": {
          "base_uri": "https://localhost:8080/"
        },
        "outputId": "7c80aa95-4f41-43e9-e573-2a5470e522c6"
      },
      "outputs": [
        {
          "output_type": "stream",
          "name": "stdout",
          "text": [
            "6! = 720\n",
            "Combinations (6 choose 3): 20\n"
          ]
        }
      ],
      "source": [
        "# ---- FACTORIAL & COMBINATIONS ----\n",
        "\n",
        "import math\n",
        "print(\"6! =\", math.factorial(6))\n",
        "print(\"Combinations (6 choose 3):\", math.comb(6, 3))\n"
      ]
    },
    {
      "cell_type": "markdown",
      "source": [
        "## 🃏 PART 2: Simulating a Deck of Cards\n",
        "\n"
      ],
      "metadata": {
        "id": "pzy2xD3H3D3o"
      }
    },
    {
      "cell_type": "code",
      "source": [
        "# ---- PROBABILITY IN A DECK ----\n",
        "\n",
        "import random\n",
        "\n",
        "deck = [f\"{rank} of {suit}\" for suit in ['Hearts', 'Spades', 'Diamonds', 'Clubs']\n",
        "        for rank in range(1, 14)]\n",
        "\n",
        "# Draw 2 random cards\n",
        "\n",
        "draws = random.sample(deck, 2)\n",
        "print(\"\\nDrawn cards:\", draws)\n"
      ],
      "metadata": {
        "id": "eUvZhzYB2x4L",
        "colab": {
          "base_uri": "https://localhost:8080/"
        },
        "outputId": "6ca89dc6-fc75-4a96-c634-7ab0fd707f2d"
      },
      "execution_count": 5,
      "outputs": [
        {
          "output_type": "stream",
          "name": "stdout",
          "text": [
            "\n",
            "Drawn cards: ['2 of Hearts', '11 of Spades']\n"
          ]
        }
      ]
    },
    {
      "cell_type": "markdown",
      "source": [
        "## 📊 PART 3: Basic Probability"
      ],
      "metadata": {
        "id": "OidRYf9q3Mwj"
      }
    },
    {
      "cell_type": "code",
      "source": [
        "# PROBABILITY: What’s the chance that both cards are Hearts?\n",
        "\n",
        "hearts = [card for card in deck if \"Hearts\" in card]\n",
        "prob_both_hearts = math.comb(len(hearts), 2) / math.comb(len(deck), 2)\n",
        "print(f\"Probability both cards are Hearts: {prob_both_hearts:.4f}\")\n"
      ],
      "metadata": {
        "id": "Ok5d99Ns3Oa7",
        "colab": {
          "base_uri": "https://localhost:8080/"
        },
        "outputId": "4982ff55-bbf5-4616-a13f-9873f723aa3e"
      },
      "execution_count": 6,
      "outputs": [
        {
          "output_type": "stream",
          "name": "stdout",
          "text": [
            "Probability both cards are Hearts: 0.0588\n"
          ]
        }
      ]
    },
    {
      "cell_type": "markdown",
      "source": [
        "## 🔁 PART 4: Conditional Probability"
      ],
      "metadata": {
        "id": "NMIA7c313Yum"
      }
    },
    {
      "cell_type": "code",
      "source": [
        "# ---- CONDITIONAL PROBABILITY ----\n",
        "# P(A and B) / P(B): Probability second card is Heart given first was Heart\n",
        "# A = both are hearts, B = first is heart\n",
        "\n",
        "p_a_and_b = math.comb(len(hearts), 2) / math.comb(len(deck), 2) # after one heart is drawn\n",
        "p_b = 13 / 52\n",
        "p_a_given_b = p_a_and_b / p_b\n",
        "print(f\"Conditional probability 2nd card is Heart given 1st is Heart: {p_a_given_b:.4f}\")\n"
      ],
      "metadata": {
        "id": "IZeCH8pw3aZX",
        "colab": {
          "base_uri": "https://localhost:8080/"
        },
        "outputId": "e62d8a01-8d8f-418e-85e4-825f13f76cdc"
      },
      "execution_count": 9,
      "outputs": [
        {
          "output_type": "stream",
          "name": "stdout",
          "text": [
            "Conditional probability 2nd card is Heart given 1st is Heart: 0.2353\n"
          ]
        }
      ]
    }
  ]
}