{
 "cells": [
  {
   "cell_type": "markdown",
   "id": "a6372ec8",
   "metadata": {},
   "source": [
    "Task 1 — Celsius → Fahrenheit"
   ]
  },
  {
   "cell_type": "code",
   "execution_count": 2,
   "id": "ad239fd1",
   "metadata": {},
   "outputs": [
    {
     "name": "stdout",
     "output_type": "stream",
     "text": [
      "30.0°C is equal to 86.0°F\n"
     ]
    }
   ],
   "source": [
    "celsius_text = \"30\"\n",
    "celsius_num = float(celsius_text)\n",
    "Fahrenheit_temp = celsius_num * 9/5 + 32\n",
    "print(f\"{celsius_num}°C is equal to {Fahrenheit_temp}°F\")"
   ]
  },
  {
   "cell_type": "markdown",
   "id": "ed1c6bd8",
   "metadata": {},
   "source": [
    "----------------"
   ]
  },
  {
   "cell_type": "markdown",
   "id": "3ee7bf8e",
   "metadata": {},
   "source": [
    "Task 2 — Tiny Calculator"
   ]
  },
  {
   "cell_type": "code",
   "execution_count": 3,
   "id": "6bc5f560",
   "metadata": {},
   "outputs": [
    {
     "name": "stdout",
     "output_type": "stream",
     "text": [
      "sum : 13.4\n",
      "difference : 6.6\n",
      "product : 34.0\n",
      "true division : 2.9411764705882355\n",
      "floor division : 2.0\n"
     ]
    }
   ],
   "source": [
    "num1 = 10\n",
    "num2 = 3.4\n",
    "\n",
    "print(f\"sum : {num1 + num2}\")\n",
    "print(f\"difference : {num1 - num2}\")\n",
    "print(f\"product : {num1 * num2}\")\n",
    "print(f\"true division : {num1 / num2}\")\n",
    "print(f\"floor division : {num1 // num2}\")"
   ]
  },
  {
   "cell_type": "markdown",
   "id": "f51eb94d",
   "metadata": {},
   "source": [
    "-------------"
   ]
  },
  {
   "cell_type": "markdown",
   "id": "8105e016",
   "metadata": {},
   "source": [
    "Task 1 — Grocery Basket"
   ]
  },
  {
   "cell_type": "code",
   "execution_count": 10,
   "id": "f8ec4615",
   "metadata": {},
   "outputs": [
    {
     "name": "stdout",
     "output_type": "stream",
     "text": [
      "third item in basket : banana\n"
     ]
    }
   ],
   "source": [
    "shopping_list = []\n",
    "\n",
    "user_input = [\"apple\" , \"milk\" , \"banana\" , \"chocolate\"]\n",
    "shopping_list.append(user_input)\n",
    "\n",
    "immutable_basket = tuple(shopping_list[0])\n",
    "\n",
    "print(f\"third item in basket : {immutable_basket[2]}\")"
   ]
  },
  {
   "cell_type": "markdown",
   "id": "2ec096b0",
   "metadata": {},
   "source": [
    "-----"
   ]
  },
  {
   "cell_type": "markdown",
   "id": "6303d795",
   "metadata": {},
   "source": [
    "Task 2 — Word Stats"
   ]
  },
  {
   "cell_type": "code",
   "execution_count": 26,
   "id": "d62d1a0e",
   "metadata": {},
   "outputs": [
    {
     "name": "stdout",
     "output_type": "stream",
     "text": [
      "Unique words : {'or', 'the', 'question', 'to', 'be', 'not', 'is', 'that'}\n",
      "Word counts : {'to': 2, 'be': 2, 'or': 1, 'not': 1, 'that': 1, 'is': 1, 'the': 1, 'question': 1}\n"
     ]
    }
   ],
   "source": [
    "sample = \"to be or not to be that is the question\"\n",
    "\n",
    "word_fragment = sample.split()\n",
    "unique_words = set(word_fragment)\n",
    "\n",
    "word_counts = {}\n",
    "for item in word_fragment:\n",
    "    if item in word_counts:\n",
    "        word_counts[item] += 1\n",
    "    else:\n",
    "        word_counts[item] = 1\n",
    "\n",
    "print(f\"Unique words : {unique_words}\")\n",
    "print(f\"Word counts : {word_counts}\")"
   ]
  },
  {
   "cell_type": "markdown",
   "id": "10cb48da",
   "metadata": {},
   "source": [
    "----"
   ]
  },
  {
   "cell_type": "markdown",
   "id": "d0bf5d25",
   "metadata": {},
   "source": [
    "Task 1 — Prime Tester"
   ]
  },
  {
   "cell_type": "code",
   "execution_count": 63,
   "id": "6764fb55",
   "metadata": {},
   "outputs": [
    {
     "name": "stdout",
     "output_type": "stream",
     "text": [
      "[2, 3, 5, 7]\n"
     ]
    }
   ],
   "source": [
    "def is_prime(x):\n",
    "    if x <= 1:\n",
    "        return False\n",
    "    for i in range(2,x):\n",
    "        if x % i == 0:\n",
    "            return False\n",
    "    return True\n",
    "\n",
    "print([item for item in range(10) if is_prime(item)])"
   ]
  },
  {
   "cell_type": "markdown",
   "id": "af60887c",
   "metadata": {},
   "source": [
    "----"
   ]
  },
  {
   "cell_type": "markdown",
   "id": "7d622a8c",
   "metadata": {},
   "source": [
    "Task 2 — Repeater Greeter"
   ]
  },
  {
   "cell_type": "code",
   "execution_count": 69,
   "id": "497a50c5",
   "metadata": {},
   "outputs": [
    {
     "name": "stdout",
     "output_type": "stream",
     "text": [
      "Alice\n",
      "Bob Bob Bob\n"
     ]
    }
   ],
   "source": [
    "def greet(name , times = 1):\n",
    "    print(\" \".join([name.capitalize()] * times))\n",
    "\n",
    "greet(\"Alice\")\n",
    "greet(\"bob\", times=3)"
   ]
  },
  {
   "cell_type": "markdown",
   "id": "474dfccb",
   "metadata": {},
   "source": [
    "----"
   ]
  },
  {
   "cell_type": "markdown",
   "id": "34fa9656",
   "metadata": {},
   "source": [
    "Task 1 — Simple Counter"
   ]
  },
  {
   "cell_type": "code",
   "execution_count": 70,
   "id": "d122aa51",
   "metadata": {},
   "outputs": [
    {
     "name": "stdout",
     "output_type": "stream",
     "text": [
      "5\n"
     ]
    }
   ],
   "source": [
    "class Counter:\n",
    "    def __init__(self):\n",
    "        self.count = 0\n",
    "\n",
    "    def increment(self):\n",
    "        self.count += 1\n",
    "\n",
    "    def get_count(self)    :\n",
    "        return self.count\n",
    "    \n",
    "c = Counter()\n",
    "\n",
    "for item in range(5):\n",
    "    c.increment()\n",
    "print(c.get_count())"
   ]
  },
  {
   "cell_type": "markdown",
   "id": "176646b2",
   "metadata": {},
   "source": [
    "----"
   ]
  },
  {
   "cell_type": "markdown",
   "id": "dd46b7d6",
   "metadata": {},
   "source": [
    "Task 2 — 2-D Point with Distance"
   ]
  },
  {
   "cell_type": "code",
   "execution_count": 79,
   "id": "bfcae2f2",
   "metadata": {},
   "outputs": [],
   "source": [
    "import math\n",
    "\n",
    "class Point:\n",
    "    def __init__(self , x , y):\n",
    "        self.x = x\n",
    "        self.y = y\n",
    "\n",
    "    def distance_to(self , other):\n",
    "        result = math.sqrt((self.x - other.x)**2 + (self.y - other.y)**2)\n",
    "        return round(result , 1)\n",
    "    \n",
    "p = Point(3,4)\n",
    "q = Point(0 , 0)\n",
    "\n",
    "assert p.distance_to(q) == 5.0"
   ]
  }
 ],
 "metadata": {
  "kernelspec": {
   "display_name": ".venv",
   "language": "python",
   "name": "python3"
  },
  "language_info": {
   "codemirror_mode": {
    "name": "ipython",
    "version": 3
   },
   "file_extension": ".py",
   "mimetype": "text/x-python",
   "name": "python",
   "nbconvert_exporter": "python",
   "pygments_lexer": "ipython3",
   "version": "3.12.4"
  }
 },
 "nbformat": 4,
 "nbformat_minor": 5
}
