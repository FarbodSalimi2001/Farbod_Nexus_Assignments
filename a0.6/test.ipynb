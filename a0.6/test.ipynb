{
 "cells": [
  {
   "cell_type": "markdown",
   "id": "c4e43e3b",
   "metadata": {},
   "source": [
    "# Assignment 06 — Descriptive Statistics"
   ]
  },
  {
   "cell_type": "code",
   "execution_count": 5,
   "id": "aca77c17",
   "metadata": {},
   "outputs": [
    {
     "name": "stdout",
     "output_type": "stream",
     "text": [
      "Generated Data: [29 34 37 35 37 39 35 31 25 25 30 35 29 26 34 37 38 21 33 26 37 22 30 38\n",
      " 39 25 36 29 34 26]\n"
     ]
    }
   ],
   "source": [
    "import numpy as np\n",
    "from scipy import stats\n",
    "import matplotlib.pyplot as plt\n",
    "\n",
    "\n",
    "np.random.choice(42)\n",
    "data = np.random.randint(20 , 40 , size=30)\n",
    "print(\"Generated Data:\", data)"
   ]
  },
  {
   "cell_type": "markdown",
   "id": "68101c82",
   "metadata": {},
   "source": [
    "#  Step 2: Central Tendency and Quantiles"
   ]
  },
  {
   "cell_type": "code",
   "execution_count": 7,
   "id": "23bd5550",
   "metadata": {},
   "outputs": [
    {
     "name": "stdout",
     "output_type": "stream",
     "text": [
      "Mean: 31.733333333333334\n",
      "Median: 33.5\n",
      "Mode: 37\n",
      "Q1 (25%): 26.75\n",
      "Q3 (75%): 36.75\n"
     ]
    }
   ],
   "source": [
    "# 📐 Central Tendency\n",
    "# mean\n",
    "mean_val = np.mean(data)\n",
    "# median\n",
    "median_val = np.median(data)\n",
    "# mode\n",
    "mode_val = stats.mode(data, keepdims=True).mode[0]\n",
    "\n",
    "# 📏 Quantiles\n",
    "q1 = np.quantile(data, 0.25)\n",
    "q3 = np.quantile(data, 0.75)\n",
    "\n",
    "print(f\"Mean: {mean_val}\")\n",
    "print(f\"Median: {median_val}\")\n",
    "print(f\"Mode: {mode_val}\")\n",
    "print(f\"Q1 (25%): {q1}\")\n",
    "print(f\"Q3 (75%): {q3}\")"
   ]
  },
  {
   "cell_type": "markdown",
   "id": "d5c5fb15",
   "metadata": {},
   "source": [
    "# Step 3: Skewness and Kurtosis"
   ]
  },
  {
   "cell_type": "code",
   "execution_count": 10,
   "id": "795ddfb5",
   "metadata": {},
   "outputs": [
    {
     "name": "stdout",
     "output_type": "stream",
     "text": [
      "Skewness: -0.37\n",
      "Kurtosis: -1.10\n"
     ]
    }
   ],
   "source": [
    "# 📉 Skewness and Kurtosis\n",
    "skew_val = stats.skew(data)\n",
    "kurtosis_val = stats.kurtosis(data)\n",
    "\n",
    "print(f\"Skewness: {skew_val:.2f}\")\n",
    "print(f\"Kurtosis: {kurtosis_val:.2f}\")\n"
   ]
  },
  {
   "cell_type": "markdown",
   "id": "b8f00181",
   "metadata": {},
   "source": [
    "# Step 4: Visualization - Bar Chart and Boxplot"
   ]
  },
  {
   "cell_type": "code",
   "execution_count": 9,
   "id": "31f01b30",
   "metadata": {},
   "outputs": [
    {
     "data": {
      "image/png": "[encoded data removed]",
      "text/plain": [
       "<Figure size 1200x400 with 2 Axes>"
      ]
     },
     "metadata": {},
     "output_type": "display_data"
    }
   ],
   "source": [
    "# 📊 Bar Plot\n",
    "plt.figure(figsize=(12, 4))\n",
    "\n",
    "plt.subplot(1, 2, 1)\n",
    "# make a bar chart\n",
    "plt.bar(range(len(data)), data)\n",
    "plt.title(\"Bar Plot of Random Data\")\n",
    "plt.xlabel(\"Index\")\n",
    "plt.ylabel(\"Value\")\n",
    "\n",
    "# 📦 Boxplot\n",
    "plt.subplot(1, 2, 2)\n",
    "# make a box plot\n",
    "plt.boxplot(data, vert=False)\n",
    "plt.title(\"Boxplot of Random Data\")\n",
    "plt.xlabel(\"Value\")\n",
    "\n",
    "plt.tight_layout()\n",
    "plt.show()\n"
   ]
  }
 ],
 "metadata": {
  "kernelspec": {
   "display_name": ".venv",
   "language": "python",
   "name": "python3"
  },
  "language_info": {
   "codemirror_mode": {
    "name": "ipython",
    "version": 3
   },
   "file_extension": ".py",
   "mimetype": "text/x-python",
   "name": "python",
   "nbconvert_exporter": "python",
   "pygments_lexer": "ipython3",
   "version": "3.12.4"
  }
 },
 "nbformat": 4,
 "nbformat_minor": 5
}
