{
  "cells": [
    {
      "cell_type": "markdown",
      "metadata": {
        "id": "A1k4HkdO05Yu"
      },
      "source": [
        "# 📓 Assignment 4 — Linear Algebra Fundamentals\n",
        "\n",
        "*Vectors & Matrices for Everyday Coding*\n",
        "\n"
      ]
    },
    {
      "cell_type": "markdown",
      "metadata": {
        "id": "mBNupqPj1B1_"
      },
      "source": [
        "## Welcome back, intrepid coder! 🚀\n",
        "In this notebook-styled brief you’ll move from single-direction vectors to multi-direction matrices—core tools behind graphics, robotics, optimisation and (of course) machine-learning. Each mini-section mixes quick notes, a tiny real-world scenario, and hands-on # TODO code shaped for beginners.\n"
      ]
    },
    {
      "cell_type": "markdown",
      "metadata": {
        "id": "zD-AyQCe1Y9e"
      },
      "source": [
        "## 🧭 Vectors 101\n",
        "\n",
        "| Concept             | Quick reminder                                  |\n",
        "|---------------------|--------------------------------------------------|\n",
        "| Representation      | 1-D NumPy array — `np.array([x, y, z])`         |\n",
        "| Length (norm)       | `np.linalg.norm(v)`                             |\n",
        "| Dot / inner product | `v.dot(w)` or `np.inner(v, w)`                  |\n",
        "| Unit vector         | `v / np.linalg.norm(v)`                         |\n"
      ]
    },
    {
      "cell_type": "code",
      "execution_count": null,
      "metadata": {
        "colab": {
          "base_uri": "https://localhost:8080/"
        },
        "id": "AWVTIlQP0ysC",
        "outputId": "05a04eff-7c18-4005-e9fd-a24ea3d9a962"
      },
      "outputs": [
        {
          "output_type": "stream",
          "name": "stdout",
          "text": [
            "The length of the vector is: 12.25\n",
            "The dot product is: 108\n"
          ]
        }
      ],
      "source": [
        "# Run once per session\n",
        "import numpy as np\n",
        "\n",
        "# TODO 1: create a 3-D vector named v\n",
        "v = np.array([1, 7, 10])\n",
        "\n",
        "# TODO 2: print its length\n",
        "print(f\"The length of the vector is: {np.linalg.norm(v):.2f}\")\n",
        "\n",
        "# TODO 3: build a second vector w and output the dot product\n",
        "w = np.array([13, 5, 6])\n",
        "print(f\"The dot product is: {v@w}\")"
      ]
    },
    {
      "cell_type": "markdown",
      "metadata": {
        "id": "c_iB5_0A1rg7"
      },
      "source": [
        "### 🚁 Practical Scenario — “Drone hop”\n",
        "A mini-drone lifts off at (2 m, 1 m) and lands at (7 m, 4 m).\n",
        "Calculate its displacement vector, travel distance, and orientation along the x-axis."
      ]
    },
    {
      "cell_type": "code",
      "execution_count": null,
      "metadata": {
        "id": "Rq-tHCkF1x3p",
        "colab": {
          "base_uri": "https://localhost:8080/"
        },
        "outputId": "3e793737-46b8-4f9c-a354-94099bbea3fc"
      },
      "outputs": [
        {
          "output_type": "stream",
          "name": "stdout",
          "text": [
            "Displacement: [5 3]\n",
            "Distance: 5.830951894845301\n",
            "Unit direction: [0.85749293 0.51449576]\n",
            "Dot-product with x-axis: 5\n"
          ]
        }
      ],
      "source": [
        "p_start = np.array([2, 1])\n",
        "p_end   = np.array([7, 4])\n",
        "\n",
        "# displacement\n",
        "d = p_end - p_start          # ➡️ vector from start to end\n",
        "dist = np.linalg.norm(d)     # 🏁 distance travelled\n",
        "unit = d / dist              # ↗️ unit direction\n",
        "dot_x = d.dot(np.array([1, 0]))  # projection on x-axis\n",
        "\n",
        "print(\"Displacement:\", d)\n",
        "print(\"Distance:\", dist)\n",
        "print(\"Unit direction:\", unit)\n",
        "print(\"Dot-product with x-axis:\", dot_x)\n"
      ]
    },
    {
      "cell_type": "markdown",
      "metadata": {
        "id": "vqX_pXGq16Af"
      },
      "source": [
        "## 🔢 Matrices 101\n",
        "\n",
        "| Operation              | NumPy one-liner                                  |\n",
        "|------------------------|--------------------------------------------------|\n",
        "| Transpose              | `A.T`                                            |\n",
        "| Determinant            | `np.linalg.det(A)`                               |\n",
        "| Inverse                | `np.linalg.inv(A)` (works only if `det(A) ≠ 0`)  |\n",
        "| Matrix-vector multiply | `A @ v`                                          |\n",
        "| Matrix-matrix multiply | `A @ B`                                          |\n"
      ]
    },
    {
      "cell_type": "code",
      "execution_count": null,
      "metadata": {
        "id": "yycidpaj2BAv",
        "colab": {
          "base_uri": "https://localhost:8080/"
        },
        "outputId": "8f84f49c-6e27-42c4-eab2-834093f93618"
      },
      "outputs": [
        {
          "output_type": "stream",
          "name": "stdout",
          "text": [
            "Matrix's determinant is: -4.00\n",
            "The inverted matrix is:\n",
            "[[ 0.    1.  ]\n",
            " [ 0.25 -0.5 ]]\n"
          ]
        }
      ],
      "source": [
        "# TODO 4: build a 2×2 matrix A\n",
        "A = np.array([[2, 4], [1, 0]])\n",
        "\n",
        "# TODO 5: print its determinant\n",
        "det = np.linalg.det(A)\n",
        "print(f\"Matrix's determinant is: {det:.2f}\")\n",
        "\n",
        "# TODO 6: if invertible, compute and print A_inv\n",
        "if det == 0:\n",
        "  print(\"The matrix is not invertible.\")\n",
        "else:\n",
        "  A_inv = np.linalg.inv(A)\n",
        "  print(f\"The inverted matrix is:\\n{A_inv}\")\n"
      ]
    },
    {
      "cell_type": "markdown",
      "metadata": {
        "id": "C-ikgDhF2DFn"
      },
      "source": [
        "### 🎯 Practical Scenario — “Rotate that hop”\n",
        "Rotate the drone’s displacement vector 30° counter-clockwise, then verify that the inverse rotation brings it back."
      ]
    },
    {
      "cell_type": "code",
      "execution_count": null,
      "metadata": {
        "id": "SgmIesbf2G65",
        "colab": {
          "base_uri": "https://localhost:8080/"
        },
        "outputId": "71b8afb4-be19-4ff0-c0eb-ca02247c2dc7"
      },
      "outputs": [
        {
          "output_type": "stream",
          "name": "stdout",
          "text": [
            "Rotation matrix determinant: 1.0\n",
            "Rotated vector: [2.83012702 5.09807621]\n",
            "Back-rotated equals original? True\n"
          ]
        }
      ],
      "source": [
        "theta = np.deg2rad(30)          # 🔄 convert degrees to radians\n",
        "R = np.array([[np.cos(theta), -np.sin(theta)],\n",
        "              [np.sin(theta),  np.cos(theta)]])\n",
        "\n",
        "det_R = np.linalg.det(R)        # should be 1.0 (pure rotation)\n",
        "\n",
        "d_rot  = R @ d                  # rotated displacement\n",
        "d_back = np.linalg.inv(R) @ d_rot\n",
        "\n",
        "print(\"Rotation matrix determinant:\", det_R)\n",
        "print(\"Rotated vector:\", d_rot)\n",
        "print(\"Back-rotated equals original?\", np.allclose(d_back, d))"
      ]
    }
  ],
  "metadata": {
    "colab": {
      "provenance": []
    },
    "kernelspec": {
      "display_name": "Python 3",
      "name": "python3"
    },
    "language_info": {
      "name": "python"
    }
  },
  "nbformat": 4,
  "nbformat_minor": 0
}