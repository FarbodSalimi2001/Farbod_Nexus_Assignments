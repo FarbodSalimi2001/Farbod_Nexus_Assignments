{
 "cells": [
  {
   "cell_type": "markdown",
   "id": "1e3a8b61",
   "metadata": {},
   "source": [
    " # Vectors 101"
   ]
  },
  {
   "cell_type": "code",
   "execution_count": 1,
   "id": "5ca5c08f",
   "metadata": {},
   "outputs": [
    {
     "name": "stdout",
     "output_type": "stream",
     "text": [
      "v shape: (4, 2, 3), v ndim: 3\n",
      "Norm of v ===> 26.267851073127396\n",
      "---------------------------------------------------\n",
      "w shape: (4, 3, 2), w ndim: 3\n",
      "Dot product of v and w ====> [[[ 75 113]\n",
      "  [ 50  75]]\n",
      "\n",
      " [[ 44  69]\n",
      "  [ 40  77]]\n",
      "\n",
      " [[ 95 119]\n",
      "  [ 87 119]]\n",
      "\n",
      " [[133  91]\n",
      "  [ 83  46]]]\n",
      "---------------------------------------------------\n",
      "dot_product shape: (4, 2, 2), dot_product ndim: 3\n"
     ]
    }
   ],
   "source": [
    "import numpy as np\n",
    "\n",
    "v = np.random.randint(1,10,size=(4 , 2 , 3))\n",
    "print(f\"v shape: {v.shape}, v ndim: {v.ndim}\")\n",
    "print(f\"Norm of v ===> {np.linalg.norm(v)}\")\n",
    "print(\"---------------------------------------------------\")\n",
    "\n",
    "w = np.random.randint(1,10,size=(4 , 3 , 2))\n",
    "print(f\"w shape: {w.shape}, w ndim: {w.ndim}\")\n",
    "\n",
    "dot_product = np.matmul(v, w)\n",
    "print(f\"Dot product of v and w ====> {dot_product}\")\n",
    "print(\"---------------------------------------------------\")\n",
    "print(f\"dot_product shape: {dot_product.shape}, dot_product ndim: {dot_product.ndim}\")"
   ]
  },
  {
   "cell_type": "markdown",
   "id": "e1fe47a0",
   "metadata": {},
   "source": [
    "#  Practical Scenario — “Drone hop”"
   ]
  },
  {
   "cell_type": "code",
   "execution_count": 2,
   "id": "83607415",
   "metadata": {},
   "outputs": [
    {
     "name": "stdout",
     "output_type": "stream",
     "text": [
      "Displacement ==> [5 3]\n",
      "shape of displacement ==> (2,)\n",
      "Distance ==> 5.830951894845301\n",
      "Unit ==> [0.85749293 0.51449576]\n",
      "Dot_x ==> 5\n"
     ]
    }
   ],
   "source": [
    "p_start = np.array([2,1])\n",
    "p_end = np.array([7,4])\n",
    "\n",
    "displacement = np.subtract(p_end, p_start)\n",
    "distance = np.linalg.norm(displacement)\n",
    "unit = displacement / distance\n",
    "dot_x = np.dot(displacement , [1,0])\n",
    "\n",
    "print(f\"Displacement ==> {displacement}\")\n",
    "print(f\"shape of displacement ==> {displacement.shape}\")\n",
    "print(f\"Distance ==> {distance}\")\n",
    "print(f\"Unit ==> {unit}\")\n",
    "print(f\"Dot_x ==> {dot_x}\")"
   ]
  },
  {
   "cell_type": "markdown",
   "id": "fcacb2aa",
   "metadata": {},
   "source": [
    "# Matrices 101"
   ]
  },
  {
   "cell_type": "code",
   "execution_count": 3,
   "id": "e2ec1da2",
   "metadata": {},
   "outputs": [
    {
     "name": "stdout",
     "output_type": "stream",
     "text": [
      "a shape ==> (2, 2), a ndim ==> 2\n",
      "-----------------------------------------------\n",
      "Det of a ==> 52.999999999999986\n",
      "A_inv ==> [[ 0.13207547 -0.01886792]\n",
      " [-0.05660377  0.1509434 ]]\n"
     ]
    }
   ],
   "source": [
    "a = np.random.randint(1 , 10 , size=(2,2))\n",
    "print(f\"a shape ==> {a.shape}, a ndim ==> {a.ndim}\")\n",
    "print(\"-----------------------------------------------\")\n",
    "\n",
    "det_a = np.linalg.det(a)\n",
    "print(f\"Det of a ==> {det_a}\")\n",
    "\n",
    "a_inv = np.linalg.inv(a)\n",
    "print(f\"A_inv ==> {a_inv}\")"
   ]
  },
  {
   "cell_type": "markdown",
   "id": "dd5a32a8",
   "metadata": {},
   "source": [
    " # Practical Scenario — “Rotate that hop”\n",
    "# Rotate the drone’s displacement vector 30° counter-clockwise, then verify that the inverse rotation brings it back."
   ]
  },
  {
   "cell_type": "code",
   "execution_count": 5,
   "id": "171c05be",
   "metadata": {},
   "outputs": [
    {
     "name": "stdout",
     "output_type": "stream",
     "text": [
      "r ==> [[ 0.8660254 -0.5      ]\n",
      " [ 0.5        0.8660254]]\n",
      "---------------------------------------------\n",
      "shape of r ==> (2, 2)\n",
      "shape of d ==> (2,)\n",
      "shape of d_rotate ==> (2,)\n",
      "Theta ==> 0.5235987755982988\n",
      "Determinant of r ==> 1.0\n",
      "Back rotate is equal to d_roate?? ===> True\n"
     ]
    }
   ],
   "source": [
    "theta = np.deg2rad(30)\n",
    "\n",
    "r = np.array([[np.cos(theta), -np.sin(theta)],\n",
    "              [np.sin(theta),  np.cos(theta)]])\n",
    "\n",
    "det_r = np.linalg.det(r)\n",
    "\n",
    "d_rotate = np.matmul(r, displacement)\n",
    "d_back_rotate = np.matmul(np.linalg.inv(r), d_rotate)\n",
    "\n",
    "print(f\"r ==> {r}\")\n",
    "print(\"---------------------------------------------\")\n",
    "print(f\"shape of r ==> {r.shape}\")\n",
    "print(f\"shape of d ==> {displacement.shape}\")\n",
    "print(f\"shape of d_rotate ==> {d_rotate.shape}\")\n",
    "print(f\"Theta ==> {theta}\")\n",
    "print(f\"Determinant of r ==> {det_r}\")\n",
    "print(f\"Back rotate is equal to d_roate?? ===> {np.allclose(d_back_rotate , displacement)}\")"
   ]
  }
 ],
 "metadata": {
  "kernelspec": {
   "display_name": ".venv",
   "language": "python",
   "name": "python3"
  },
  "language_info": {
   "codemirror_mode": {
    "name": "ipython",
    "version": 3
   },
   "file_extension": ".py",
   "mimetype": "text/x-python",
   "name": "python",
   "nbconvert_exporter": "python",
   "pygments_lexer": "ipython3",
   "version": "3.12.4"
  }
 },
 "nbformat": 4,
 "nbformat_minor": 5
}
