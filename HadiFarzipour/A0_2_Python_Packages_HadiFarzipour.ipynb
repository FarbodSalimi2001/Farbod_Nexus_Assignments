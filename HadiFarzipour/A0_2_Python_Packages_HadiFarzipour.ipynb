{
  "nbformat": 4,
  "nbformat_minor": 0,
  "metadata": {
    "colab": {
      "provenance": [],
      "collapsed_sections": [
        "UyNHtkGm9OgH",
        "BtsB8QKM9Xs_",
        "wRyJyhbt9uUr",
        "byKd8SFK9w2y"
      ]
    },
    "kernelspec": {
      "name": "python3",
      "display_name": "Python 3"
    },
    "language_info": {
      "name": "python"
    }
  },
  "cells": [
    {
      "cell_type": "markdown",
      "source": [
        "# 📚 Assignment 2 — NumPy, pandas & Matplotlib Essentials\n",
        "Welcome to your first data-science sprint! In this three-part mini-project you’ll touch the libraries every ML practitioner leans on daily:\n",
        "\n",
        "1. NumPy — fast n-dimensional arrays\n",
        "\n",
        "2. pandas — tabular data wrangling\n",
        "\n",
        "3. Matplotlib — quick, customizable plots\n",
        "\n",
        "Each part starts with “Quick-start notes”, then gives you two bite-sized tasks. Replace every # TODO with working Python in a notebook or script, run it, and check your results. Happy hacking! 😊\n"
      ],
      "metadata": {
        "id": "ZS5lje_18xC2"
      }
    },
    {
      "cell_type": "markdown",
      "source": [
        "## 1 · NumPy 🧮\n",
        "Quick-start notes\n",
        "Core object: ndarray (n-dimensional array)\n",
        "\n",
        "Create data: np.array, np.arange, np.random.*\n",
        "\n",
        "Summaries: mean, std, sum, max, …\n",
        "\n",
        "Vectorised math beats Python loops for speed\n",
        "\n"
      ],
      "metadata": {
        "id": "u5vvtK-6840I"
      }
    },
    {
      "cell_type": "markdown",
      "source": [
        "### Task 1 — Mock temperatures\n",
        "\n"
      ],
      "metadata": {
        "id": "UyNHtkGm9OgH"
      }
    },
    {
      "cell_type": "code",
      "execution_count": 3,
      "metadata": {
        "id": "lmaiboJe8E15",
        "colab": {
          "base_uri": "https://localhost:8080/"
        },
        "outputId": "8dd60924-1483-473a-95ca-9867f24c4f07"
      },
      "outputs": [
        {
          "output_type": "stream",
          "name": "stdout",
          "text": [
            "Mean: 20.4°C\n",
            "Std dev: 5.2°C\n",
            "Size: 365\n"
          ]
        }
      ],
      "source": [
        "# 👉 # TODO: import numpy and create an array of 365\n",
        "# normally-distributed °C values (µ=20, σ=5) called temps\n",
        "import numpy as np\n",
        "\n",
        "# Create array of 365 normally-distributed temperatures\n",
        "temps = np.random.normal(loc=20, scale=5, size=365)\n",
        "\n",
        "\n",
        "print(f\"Mean: {temps.mean():.1f}°C\")\n",
        "print(f\"Std dev: {temps.std():.1f}°C\")\n",
        "print(f\"Size: {len(temps)}\")\n"
      ]
    },
    {
      "cell_type": "markdown",
      "source": [
        "### Task 2 — Average temperature\n"
      ],
      "metadata": {
        "id": "BtsB8QKM9Xs_"
      }
    },
    {
      "cell_type": "code",
      "source": [
        "# 👉 # TODO: print the mean of temps\n",
        "print(f\"Mean: {temps.mean():.1f}°C\")\n"
      ],
      "metadata": {
        "id": "DSR8aS-F9Z10",
        "colab": {
          "base_uri": "https://localhost:8080/"
        },
        "outputId": "9c8e53c8-b1f8-4117-8c71-b0fad7f3d0ff"
      },
      "execution_count": 4,
      "outputs": [
        {
          "output_type": "stream",
          "name": "stdout",
          "text": [
            "Mean: 20.4°C\n"
          ]
        }
      ]
    },
    {
      "cell_type": "markdown",
      "source": [
        "## 2 · pandas 📊\n",
        "Quick-start notes\n",
        "Main structures: DataFrame, Series\n",
        "\n",
        "Read data: pd.read_csv, pd.read_excel, …\n",
        "\n",
        "Selection: .loc[label], .iloc[pos]\n",
        "\n",
        "Group & summarise: .groupby(...).agg(...)\n",
        "\n"
      ],
      "metadata": {
        "id": "8JjHX4wy9dPz"
      }
    },
    {
      "cell_type": "markdown",
      "source": [
        "### Task 3 — Load ride log\n"
      ],
      "metadata": {
        "id": "wRyJyhbt9uUr"
      }
    },
    {
      "cell_type": "code",
      "source": [
        "#Create a random data set and save it as rides.csv\n",
        "import pandas as pd\n",
        "import numpy as np\n",
        "from datetime import datetime, timedelta\n",
        "\n",
        "\n",
        "np.random.seed(42)\n",
        "\n",
        "# Generate a date range\n",
        "num_days = 100\n",
        "start_date = datetime(2025, 6, 1)\n",
        "dates = [start_date + timedelta(days=i) for i in range(num_days)]\n",
        "\n",
        "# Generate synthetic data\n",
        "data = {\n",
        "    'date': [d.strftime('%Y-%m-%d') for d in dates],\n",
        "    'temp': np.round(np.random.uniform(15, 35, num_days), 1),\n",
        "    'rides': np.random.randint(50, 500, num_days),\n",
        "    'weekday': [d.strftime('%A') for d in dates]\n",
        "}\n",
        "\n",
        "# Create DataFrame\n",
        "df = pd.DataFrame(data)\n",
        "\n",
        "# Save to CSV\n",
        "df.to_csv('rides.csv', index=False)\n",
        "\n",
        "# Print sample\n",
        "print(df.head())\n"
      ],
      "metadata": {
        "colab": {
          "base_uri": "https://localhost:8080/"
        },
        "id": "bJZ8e3dLNED6",
        "outputId": "8c332cb5-ce9e-49c3-b87b-b31c27a0f192"
      },
      "execution_count": 5,
      "outputs": [
        {
          "output_type": "stream",
          "name": "stdout",
          "text": [
            "         date  temp  rides    weekday\n",
            "0  2025-06-01  22.5    112     Sunday\n",
            "1  2025-06-02  34.0    401     Monday\n",
            "2  2025-06-03  29.6    280    Tuesday\n",
            "3  2025-06-04  27.0    290  Wednesday\n",
            "4  2025-06-05  18.1    101   Thursday\n"
          ]
        }
      ]
    },
    {
      "cell_type": "code",
      "source": [
        "import pandas as pd\n",
        "\n",
        "# 👉 # TODO: read \"rides.csv\" into df\n",
        "# (columns: date,temp,rides,weekday)\n",
        "df = pd.read_csv(\"rides.csv\", parse_dates=[\"date\"])\n",
        "\n",
        "# Optional: Check the first few rows\n",
        "print(df.head())\n",
        "\n"
      ],
      "metadata": {
        "id": "1J4jcLct9yVO",
        "colab": {
          "base_uri": "https://localhost:8080/"
        },
        "outputId": "a6d8356b-060a-4653-95ea-48112a8360cb"
      },
      "execution_count": 6,
      "outputs": [
        {
          "output_type": "stream",
          "name": "stdout",
          "text": [
            "        date  temp  rides    weekday\n",
            "0 2025-06-01  22.5    112     Sunday\n",
            "1 2025-06-02  34.0    401     Monday\n",
            "2 2025-06-03  29.6    280    Tuesday\n",
            "3 2025-06-04  27.0    290  Wednesday\n",
            "4 2025-06-05  18.1    101   Thursday\n"
          ]
        }
      ]
    },
    {
      "cell_type": "markdown",
      "source": [
        "### Task 4 — Weekday averages"
      ],
      "metadata": {
        "id": "byKd8SFK9w2y"
      }
    },
    {
      "cell_type": "code",
      "source": [
        "# 👉 # TODO: compute and print mean rides per weekday\n",
        "# 👉 # TODO: compute and print mean rides per weekday\n",
        "mean_rides_per_weekday = df.groupby(\"weekday\")[\"rides\"].mean().sort_index()\n",
        "print(mean_rides_per_weekday)\n"
      ],
      "metadata": {
        "id": "4rLrxkPj90p3",
        "colab": {
          "base_uri": "https://localhost:8080/"
        },
        "outputId": "0fe49bb6-1983-4630-b857-7f866745ec76"
      },
      "execution_count": 7,
      "outputs": [
        {
          "output_type": "stream",
          "name": "stdout",
          "text": [
            "weekday\n",
            "Friday       299.571429\n",
            "Monday       251.533333\n",
            "Saturday     266.071429\n",
            "Sunday       282.200000\n",
            "Thursday     241.928571\n",
            "Tuesday      293.714286\n",
            "Wednesday    234.071429\n",
            "Name: rides, dtype: float64\n"
          ]
        }
      ]
    },
    {
      "cell_type": "markdown",
      "source": [
        "## 3 · Matplotlib 📈\n",
        "Quick-start notes\n",
        "Workhorse: pyplot interface (import matplotlib.pyplot as plt)\n",
        "\n",
        "Figure & axes: fig, ax = plt.subplots()\n",
        "\n",
        "Common plots: plot, scatter, hist, imshow\n",
        "\n",
        "Display inline in Jupyter with %matplotlib inline or %matplotlib notebook"
      ],
      "metadata": {
        "id": "gbGMbtLf94M4"
      }
    },
    {
      "cell_type": "markdown",
      "source": [
        "### Task 5 — Scatter plot"
      ],
      "metadata": {
        "id": "QOsToPh2-AnZ"
      }
    },
    {
      "cell_type": "code",
      "source": [
        "import matplotlib.pyplot as plt\n",
        "\n",
        "# 👉 # TODO: scatter-plot temperature (x) vs rides (y) from df\n",
        "plt.figure(figsize=(8, 5))\n",
        "plt.scatter(df[\"temp\"], df[\"rides\"], alpha=0.7, color='teal')\n",
        "plt.title(\"Temperature vs Rides\")\n",
        "plt.xlabel(\"Temperature (°C)\")\n",
        "plt.ylabel(\"Number of Rides\")\n",
        "plt.grid(True)\n",
        "plt.show()\n",
        "\n",
        "\n"
      ],
      "metadata": {
        "id": "_pCU2mIH-DAi",
        "colab": {
          "base_uri": "https://localhost:8080/",
          "height": 462
        },
        "outputId": "52ef541b-199b-40e5-957b-09a338c22418"
      },
      "execution_count": 15,
      "outputs": [
        {
          "output_type": "execute_result",
          "data": {
            "text/plain": [
              "<matplotlib.collections.PathCollection at 0x7ef1f42c34d0>"
            ]
          },
          "metadata": {},
          "execution_count": 15
        },
        {
          "output_type": "display_data",
          "data": {
            "text/plain": [
              "<Figure size 800x500 with 1 Axes>"
            ],
            "image/png": "[encoded data removed]"
          },
          "metadata": {}
        }
      ]
    },
    {
      "cell_type": "markdown",
      "source": [
        "### Task 6 — Show the figure\n",
        "\n"
      ],
      "metadata": {
        "id": "TBGXIzVV-E5u"
      }
    },
    {
      "cell_type": "code",
      "source": [
        "# 👉 # TODO: call plt.show() so the plot appears\n",
        "\n",
        "plt.show()"
      ],
      "metadata": {
        "id": "ycvsNyqh-GRM"
      },
      "execution_count": 16,
      "outputs": []
    }
  ]
}