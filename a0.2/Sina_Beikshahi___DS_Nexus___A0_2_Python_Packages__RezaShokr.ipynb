{
  "nbformat": 4,
  "nbformat_minor": 0,
  "metadata": {
    "colab": {
      "provenance": []
    },
    "kernelspec": {
      "name": "python3",
      "display_name": "Python 3"
    },
    "language_info": {
      "name": "python"
    }
  },
  "cells": [
    {
      "cell_type": "markdown",
      "source": [
        "# 📚 Assignment 2 — NumPy, pandas & Matplotlib Essentials\n",
        "Welcome to your first data-science sprint! In this three-part mini-project you’ll touch the libraries every ML practitioner leans on daily:\n",
        "\n",
        "1. NumPy — fast n-dimensional arrays\n",
        "\n",
        "2. pandas — tabular data wrangling\n",
        "\n",
        "3. Matplotlib — quick, customizable plots\n",
        "\n",
        "Each part starts with “Quick-start notes”, then gives you two bite-sized tasks. Replace every # TODO with working Python in a notebook or script, run it, and check your results. Happy hacking! 😊\n"
      ],
      "metadata": {
        "id": "ZS5lje_18xC2"
      }
    },
    {
      "cell_type": "markdown",
      "source": [
        "## 1 · NumPy 🧮\n",
        "Quick-start notes\n",
        "Core object: ndarray (n-dimensional array)\n",
        "\n",
        "Create data: np.array, np.arange, np.random.*\n",
        "\n",
        "Summaries: mean, std, sum, max, …\n",
        "\n",
        "Vectorised math beats Python loops for speed\n",
        "\n"
      ],
      "metadata": {
        "id": "u5vvtK-6840I"
      }
    },
    {
      "cell_type": "markdown",
      "source": [
        "### Task 1 — Mock temperatures\n",
        "\n"
      ],
      "metadata": {
        "id": "UyNHtkGm9OgH"
      }
    },
    {
      "cell_type": "code",
      "execution_count": 2,
      "metadata": {
        "id": "lmaiboJe8E15",
        "colab": {
          "base_uri": "https://localhost:8080/"
        },
        "outputId": "a65fb597-70c9-4556-cacd-751c679d4070"
      },
      "outputs": [
        {
          "output_type": "execute_result",
          "data": {
            "text/plain": [
              "array([21.05287309, 13.88633048,  9.3315993 , 22.46180503, 15.93702663,\n",
              "       24.89987713, 16.28518858, 24.65900619, 14.21099529, 20.60933088,\n",
              "       28.70901414, 23.15971914, 22.70160576, 21.08559673, 14.51131912,\n",
              "       19.61481681, 12.89401127, 12.86159324, 24.2394571 , 21.0754946 ,\n",
              "       17.34207865, 19.44491132, 29.31409967, 26.40578192, 20.75277721,\n",
              "       27.52764401, 25.48055921, 31.82480481, 17.56976835, 18.80700234,\n",
              "       20.01014755, 13.71169948, 13.31568954, 22.40936262, 16.33280357,\n",
              "       15.61374816, 28.71973261, 28.42738899, 16.10782161,  2.65831976,\n",
              "       26.43094296, 31.77371001, 14.8692091 , 15.17780021, 20.30398537,\n",
              "       21.16163719, 14.75893202, 13.27095174, 21.33845895, 24.99853709,\n",
              "       20.78348568, 22.84970411, 26.0394311 , 17.80028199, 12.8266412 ,\n",
              "       12.36705774, 17.16956038, 20.80595968, 11.26483675, 24.5846946 ,\n",
              "       18.45447479, 22.84169744, 21.03081737, 17.72195155, 16.60557483,\n",
              "       23.61719593, 18.97215998, 14.2952574 , 15.52465044, 18.39151533,\n",
              "       21.55436089, 17.00089319, 13.12704267, 16.05758567, 18.96397474,\n",
              "       20.91567384, 22.37040703, 25.61392008, 20.62472863, 20.00730009,\n",
              "       17.43522147, 21.29060878, 19.28316302, 25.69514313, 25.03752968,\n",
              "       20.94088239, 19.80321859, 18.87169399, 18.39867815, 18.20575362,\n",
              "       18.18871601, 19.15712719, 21.85535053, 18.98692945, 20.41498401,\n",
              "       12.37445324, 15.98820197, 27.05737188, 21.74826871, 14.68922636,\n",
              "       12.64495262, 16.74245488, 17.45443996, 22.80036833, 22.74871748,\n",
              "       19.13532167, 19.1590673 , 24.8484015 , 13.83106635, 24.54192973,\n",
              "       23.26133669, 21.46578827, 18.98204771, 23.93286658, 26.22283396,\n",
              "       17.32714089, 26.25302571, 21.17981368, 16.68501933, 20.20457929,\n",
              "       20.96107248, 13.68438862, 17.16890558, 18.60951987, 15.44856651,\n",
              "       20.62373636, 18.61793655, 12.76394998, 21.928153  , 17.87576124,\n",
              "       22.93014507, 19.02736097, 18.48244121, 23.93323639, 20.05874545,\n",
              "       15.28867913, 10.26066663, 16.02691828, 24.98685293, 23.76650022,\n",
              "       17.60887424, 15.86890347, 19.01755494, 25.51081659, 23.66857385,\n",
              "       14.21072758, 26.92062522, 10.67176368, 22.73888984, 23.31696412,\n",
              "       19.2207164 , 19.65510559, 16.42552069, 15.53835403, 21.45484808,\n",
              "       16.55520736, 25.06880474, 24.34173588, 19.54930187, 28.49400778,\n",
              "       16.77590252, 20.02933655, 28.83556168, 14.82731277, 21.43024825,\n",
              "       23.19035697, 26.61383   , 20.96058894, 22.32649506, 18.86836033,\n",
              "       15.30741567, 20.79094201, 16.14011568, 17.57473828, 20.82048422,\n",
              "       23.60931634, 12.5099199 , 24.55759938, 27.1192944 , 10.38149601,\n",
              "       19.54413111, 13.51959625, 17.30858635, 18.14676167, 10.70575435,\n",
              "       27.82658271, 15.30935483, 19.5898505 ,  9.69684723, 30.23648299,\n",
              "       19.40069293, 19.92742664, 13.88512047, 22.41158509, 20.95347594,\n",
              "        6.44278936, 17.21305653, 17.07749765, 20.55398094, 14.53955509,\n",
              "       24.69999322, 18.72403736, 13.97246807, 15.6340264 , 18.47689714,\n",
              "       14.87677652, 23.77673391, 29.27151569, 20.47795402, 24.51924434,\n",
              "       28.94760572, 11.75776568, 18.56745044, 24.1231027 , 21.94653275,\n",
              "       20.48436043, 14.29351026, 25.66197024, 15.13657034, 23.88788915,\n",
              "       19.94562384, 26.44289961, 14.41509853, 17.69689343, 11.35297769,\n",
              "       20.53289246, 24.23332651, 15.95175036, 20.64648299, 20.74571738,\n",
              "       20.87724506, 18.16695109, 16.09556959, 21.23930602, 20.87363768,\n",
              "       19.98009871, 15.0968545 , 17.84645028, 16.60051999, 11.72394661,\n",
              "       20.45312271, 16.4020155 , 18.60587375, 21.77676737, 17.75923958,\n",
              "       21.38343457, 16.24487948, 26.80365606, 16.13041934, 15.65787913,\n",
              "       26.23426786, 22.37212347, 24.9135734 , 31.5809317 , 24.8657153 ,\n",
              "       13.42749904, 27.07792353, 18.72810123, 20.20791939, 19.80758123,\n",
              "       29.97689119, 20.24147348,  8.13605162, 17.27245271, 23.43869087,\n",
              "       12.99739015, 13.69654864, 21.3679865 , 18.85208162, 18.74399271,\n",
              "       26.59657072, 27.76905056, 18.99166862, 15.19532827, 30.86015324,\n",
              "       22.74901661, 32.93271924, 20.6090294 , 11.97476105, 19.42602462,\n",
              "       20.93168273, 15.52314954, 16.2065947 , 12.49544546, 15.55215073,\n",
              "       18.71340289, 17.77543061, 21.03506636, 12.44132832, 20.32328419,\n",
              "       15.01290047, 14.96805695, 19.44166812, 16.29864389, 27.34683356,\n",
              "       22.19581901, 26.30454514, 15.396816  , 16.28248214, 29.74213026,\n",
              "        9.46634983, 20.49423743, 20.40065334, 11.39316487, 15.05888378,\n",
              "       23.19320674, 18.18430383, 19.8436681 , 20.73651734, 13.55287207,\n",
              "       18.91671857, 22.4828821 , 22.07518188, 23.82446301, 17.8421216 ,\n",
              "       15.37654225, 12.34408066, 19.6743416 , 18.48180592, 21.53221025,\n",
              "       21.90051882, 17.05349427, 23.17923728, 25.43604501, 19.19951368,\n",
              "       21.5047802 , 18.97942995, 23.88269645, 19.53441188, 22.83269693,\n",
              "       33.56326343, 17.29150397, 17.25358786, 20.78143932, 19.19789144,\n",
              "       24.61305675, 17.55736933, 20.0551166 , 26.73808749, 17.36956503,\n",
              "       26.28156861, 18.85575335, 21.27726181, 25.28055856, 18.48947335,\n",
              "       18.30165039, 24.80845178, 19.33773529, 26.29635414, 13.82644559,\n",
              "       32.35623386, 17.64425444, 14.95435233,  7.21111857, 18.31383985,\n",
              "       16.07679707, 24.0556055 , 27.72981244, 19.96670393, 14.33404931,\n",
              "       15.21268724, 24.13941533, 13.56887282, 22.15324483, 19.49693174])"
            ]
          },
          "metadata": {},
          "execution_count": 2
        }
      ],
      "source": [
        "# 👉 # TODO: import numpy and create an array of 365\n",
        "# normally-distributed °C values (µ=20, σ=5) called temps\n",
        "import numpy as np\n",
        "temps = np.random.normal(20, 5, 365)\n",
        "temps\n"
      ]
    },
    {
      "cell_type": "markdown",
      "source": [
        "### Task 2 — Average temperature\n"
      ],
      "metadata": {
        "id": "BtsB8QKM9Xs_"
      }
    },
    {
      "cell_type": "code",
      "source": [
        "# 👉 # TODO: print the mean of temps\n",
        "print(temps.mean())\n"
      ],
      "metadata": {
        "id": "DSR8aS-F9Z10",
        "colab": {
          "base_uri": "https://localhost:8080/"
        },
        "outputId": "2baf29a6-170e-44ca-a86e-e03f58832f1b"
      },
      "execution_count": 3,
      "outputs": [
        {
          "output_type": "stream",
          "name": "stdout",
          "text": [
            "19.69596914527727\n"
          ]
        }
      ]
    },
    {
      "cell_type": "markdown",
      "source": [
        "## 2 · pandas 📊\n",
        "Quick-start notes\n",
        "Main structures: DataFrame, Series\n",
        "\n",
        "Read data: pd.read_csv, pd.read_excel, …\n",
        "\n",
        "Selection: .loc[label], .iloc[pos]\n",
        "\n",
        "Group & summarise: .groupby(...).agg(...)\n",
        "\n"
      ],
      "metadata": {
        "id": "8JjHX4wy9dPz"
      }
    },
    {
      "cell_type": "markdown",
      "source": [
        "### Task 3 — Load ride log\n"
      ],
      "metadata": {
        "id": "wRyJyhbt9uUr"
      }
    },
    {
      "cell_type": "code",
      "source": [
        "# 👉 # TODO: read \"rides.csv\" into df\n",
        "# (columns: date,temp,rides,weekday)\n",
        "import pandas as pd\n",
        "path = \"/content/rides.csv\"\n",
        "\n",
        "df = pd.read_csv(path)\n",
        "\n",
        "df.head()"
      ],
      "metadata": {
        "id": "1J4jcLct9yVO",
        "colab": {
          "base_uri": "https://localhost:8080/",
          "height": 206
        },
        "outputId": "a775ad76-6930-4a29-ca49-5ca2748058a0"
      },
      "execution_count": 5,
      "outputs": [
        {
          "output_type": "execute_result",
          "data": {
            "text/plain": [
              "         date  temp  rides    weekday\n",
              "0  2024-01-01  13.3    141     Monday\n",
              "1  2024-01-02  18.4    174    Tuesday\n",
              "2  2024-01-03  25.3    256  Wednesday\n",
              "3  2024-01-04  19.5    188   Thursday\n",
              "4  2024-01-05  25.6    234     Friday"
            ],
            "text/html": [
              "\n",
              "  <div id=\"df-971611ad-03a8-472c-89ff-3c4935f422eb\" class=\"colab-df-container\">\n",
              "    <div>\n",
              "<style scoped>\n",
              "    .dataframe tbody tr th:only-of-type {\n",
              "        vertical-align: middle;\n",
              "    }\n",
              "\n",
              "    .dataframe tbody tr th {\n",
              "        vertical-align: top;\n",
              "    }\n",
              "\n",
              "    .dataframe thead th {\n",
              "        text-align: right;\n",
              "    }\n",
              "</style>\n",
              "<table border=\"1\" class=\"dataframe\">\n",
              "  <thead>\n",
              "    <tr style=\"text-align: right;\">\n",
              "      <th></th>\n",
              "      <th>date</th>\n",
              "      <th>temp</th>\n",
              "      <th>rides</th>\n",
              "      <th>weekday</th>\n",
              "    </tr>\n",
              "  </thead>\n",
              "  <tbody>\n",
              "    <tr>\n",
              "      <th>0</th>\n",
              "      <td>2024-01-01</td>\n",
              "      <td>13.3</td>\n",
              "      <td>141</td>\n",
              "      <td>Monday</td>\n",
              "    </tr>\n",
              "    <tr>\n",
              "      <th>1</th>\n",
              "      <td>2024-01-02</td>\n",
              "      <td>18.4</td>\n",
              "      <td>174</td>\n",
              "      <td>Tuesday</td>\n",
              "    </tr>\n",
              "    <tr>\n",
              "      <th>2</th>\n",
              "      <td>2024-01-03</td>\n",
              "      <td>25.3</td>\n",
              "      <td>256</td>\n",
              "      <td>Wednesday</td>\n",
              "    </tr>\n",
              "    <tr>\n",
              "      <th>3</th>\n",
              "      <td>2024-01-04</td>\n",
              "      <td>19.5</td>\n",
              "      <td>188</td>\n",
              "      <td>Thursday</td>\n",
              "    </tr>\n",
              "    <tr>\n",
              "      <th>4</th>\n",
              "      <td>2024-01-05</td>\n",
              "      <td>25.6</td>\n",
              "      <td>234</td>\n",
              "      <td>Friday</td>\n",
              "    </tr>\n",
              "  </tbody>\n",
              "</table>\n",
              "</div>\n",
              "    <div class=\"colab-df-buttons\">\n",
              "\n",
              "  <div class=\"colab-df-container\">\n",
              "    <button class=\"colab-df-convert\" onclick=\"convertToInteractive('df-971611ad-03a8-472c-89ff-3c4935f422eb')\"\n",
              "            title=\"Convert this dataframe to an interactive table.\"\n",
              "            style=\"display:none;\">\n",
              "\n",
              "  <svg xmlns=\"http://www.w3.org/2000/svg\" height=\"24px\" viewBox=\"0 -960 960 960\">\n",
              "    <path d=\"M120-120v-720h720v720H120Zm60-500h600v-160H180v160Zm220 220h160v-160H400v160Zm0 220h160v-160H400v160ZM180-400h160v-160H180v160Zm440 0h160v-160H620v160ZM180-180h160v-160H180v160Zm440 0h160v-160H620v160Z\"/>\n",
              "  </svg>\n",
              "    </button>\n",
              "\n",
              "  <style>\n",
              "    .colab-df-container {\n",
              "      display:flex;\n",
              "      gap: 12px;\n",
              "    }\n",
              "\n",
              "    .colab-df-convert {\n",
              "      background-color: #E8F0FE;\n",
              "      border: none;\n",
              "      border-radius: 50%;\n",
              "      cursor: pointer;\n",
              "      display: none;\n",
              "      fill: #1967D2;\n",
              "      height: 32px;\n",
              "      padding: 0 0 0 0;\n",
              "      width: 32px;\n",
              "    }\n",
              "\n",
              "    .colab-df-convert:hover {\n",
              "      background-color: #E2EBFA;\n",
              "      box-shadow: 0px 1px 2px rgba(60, 64, 67, 0.3), 0px 1px 3px 1px rgba(60, 64, 67, 0.15);\n",
              "      fill: #174EA6;\n",
              "    }\n",
              "\n",
              "    .colab-df-buttons div {\n",
              "      margin-bottom: 4px;\n",
              "    }\n",
              "\n",
              "    [theme=dark] .colab-df-convert {\n",
              "      background-color: #3B4455;\n",
              "      fill: #D2E3FC;\n",
              "    }\n",
              "\n",
              "    [theme=dark] .colab-df-convert:hover {\n",
              "      background-color: #434B5C;\n",
              "      box-shadow: 0px 1px 3px 1px rgba(0, 0, 0, 0.15);\n",
              "      filter: drop-shadow(0px 1px 2px rgba(0, 0, 0, 0.3));\n",
              "      fill: #FFFFFF;\n",
              "    }\n",
              "  </style>\n",
              "\n",
              "    <script>\n",
              "      const buttonEl =\n",
              "        document.querySelector('#df-971611ad-03a8-472c-89ff-3c4935f422eb button.colab-df-convert');\n",
              "      buttonEl.style.display =\n",
              "        google.colab.kernel.accessAllowed ? 'block' : 'none';\n",
              "\n",
              "      async function convertToInteractive(key) {\n",
              "        const element = document.querySelector('#df-971611ad-03a8-472c-89ff-3c4935f422eb');\n",
              "        const dataTable =\n",
              "          await google.colab.kernel.invokeFunction('convertToInteractive',\n",
              "                                                    [key], {});\n",
              "        if (!dataTable) return;\n",
              "\n",
              "        const docLinkHtml = 'Like what you see? Visit the ' +\n",
              "          '<a target=\"_blank\" href=https://colab.research.google.com/notebooks/data_table.ipynb>data table notebook</a>'\n",
              "          + ' to learn more about interactive tables.';\n",
              "        element.innerHTML = '';\n",
              "        dataTable['output_type'] = 'display_data';\n",
              "        await google.colab.output.renderOutput(dataTable, element);\n",
              "        const docLink = document.createElement('div');\n",
              "        docLink.innerHTML = docLinkHtml;\n",
              "        element.appendChild(docLink);\n",
              "      }\n",
              "    </script>\n",
              "  </div>\n",
              "\n",
              "\n",
              "    <div id=\"df-bfadf577-4653-497c-a5c4-a8b0c49ee014\">\n",
              "      <button class=\"colab-df-quickchart\" onclick=\"quickchart('df-bfadf577-4653-497c-a5c4-a8b0c49ee014')\"\n",
              "                title=\"Suggest charts\"\n",
              "                style=\"display:none;\">\n",
              "\n",
              "<svg xmlns=\"http://www.w3.org/2000/svg\" height=\"24px\"viewBox=\"0 0 24 24\"\n",
              "     width=\"24px\">\n",
              "    <g>\n",
              "        <path d=\"M19 3H5c-1.1 0-2 .9-2 2v14c0 1.1.9 2 2 2h14c1.1 0 2-.9 2-2V5c0-1.1-.9-2-2-2zM9 17H7v-7h2v7zm4 0h-2V7h2v10zm4 0h-2v-4h2v4z\"/>\n",
              "    </g>\n",
              "</svg>\n",
              "      </button>\n",
              "\n",
              "<style>\n",
              "  .colab-df-quickchart {\n",
              "      --bg-color: #E8F0FE;\n",
              "      --fill-color: #1967D2;\n",
              "      --hover-bg-color: #E2EBFA;\n",
              "      --hover-fill-color: #174EA6;\n",
              "      --disabled-fill-color: #AAA;\n",
              "      --disabled-bg-color: #DDD;\n",
              "  }\n",
              "\n",
              "  [theme=dark] .colab-df-quickchart {\n",
              "      --bg-color: #3B4455;\n",
              "      --fill-color: #D2E3FC;\n",
              "      --hover-bg-color: #434B5C;\n",
              "      --hover-fill-color: #FFFFFF;\n",
              "      --disabled-bg-color: #3B4455;\n",
              "      --disabled-fill-color: #666;\n",
              "  }\n",
              "\n",
              "  .colab-df-quickchart {\n",
              "    background-color: var(--bg-color);\n",
              "    border: none;\n",
              "    border-radius: 50%;\n",
              "    cursor: pointer;\n",
              "    display: none;\n",
              "    fill: var(--fill-color);\n",
              "    height: 32px;\n",
              "    padding: 0;\n",
              "    width: 32px;\n",
              "  }\n",
              "\n",
              "  .colab-df-quickchart:hover {\n",
              "    background-color: var(--hover-bg-color);\n",
              "    box-shadow: 0 1px 2px rgba(60, 64, 67, 0.3), 0 1px 3px 1px rgba(60, 64, 67, 0.15);\n",
              "    fill: var(--button-hover-fill-color);\n",
              "  }\n",
              "\n",
              "  .colab-df-quickchart-complete:disabled,\n",
              "  .colab-df-quickchart-complete:disabled:hover {\n",
              "    background-color: var(--disabled-bg-color);\n",
              "    fill: var(--disabled-fill-color);\n",
              "    box-shadow: none;\n",
              "  }\n",
              "\n",
              "  .colab-df-spinner {\n",
              "    border: 2px solid var(--fill-color);\n",
              "    border-color: transparent;\n",
              "    border-bottom-color: var(--fill-color);\n",
              "    animation:\n",
              "      spin 1s steps(1) infinite;\n",
              "  }\n",
              "\n",
              "  @keyframes spin {\n",
              "    0% {\n",
              "      border-color: transparent;\n",
              "      border-bottom-color: var(--fill-color);\n",
              "      border-left-color: var(--fill-color);\n",
              "    }\n",
              "    20% {\n",
              "      border-color: transparent;\n",
              "      border-left-color: var(--fill-color);\n",
              "      border-top-color: var(--fill-color);\n",
              "    }\n",
              "    30% {\n",
              "      border-color: transparent;\n",
              "      border-left-color: var(--fill-color);\n",
              "      border-top-color: var(--fill-color);\n",
              "      border-right-color: var(--fill-color);\n",
              "    }\n",
              "    40% {\n",
              "      border-color: transparent;\n",
              "      border-right-color: var(--fill-color);\n",
              "      border-top-color: var(--fill-color);\n",
              "    }\n",
              "    60% {\n",
              "      border-color: transparent;\n",
              "      border-right-color: var(--fill-color);\n",
              "    }\n",
              "    80% {\n",
              "      border-color: transparent;\n",
              "      border-right-color: var(--fill-color);\n",
              "      border-bottom-color: var(--fill-color);\n",
              "    }\n",
              "    90% {\n",
              "      border-color: transparent;\n",
              "      border-bottom-color: var(--fill-color);\n",
              "    }\n",
              "  }\n",
              "</style>\n",
              "\n",
              "      <script>\n",
              "        async function quickchart(key) {\n",
              "          const quickchartButtonEl =\n",
              "            document.querySelector('#' + key + ' button');\n",
              "          quickchartButtonEl.disabled = true;  // To prevent multiple clicks.\n",
              "          quickchartButtonEl.classList.add('colab-df-spinner');\n",
              "          try {\n",
              "            const charts = await google.colab.kernel.invokeFunction(\n",
              "                'suggestCharts', [key], {});\n",
              "          } catch (error) {\n",
              "            console.error('Error during call to suggestCharts:', error);\n",
              "          }\n",
              "          quickchartButtonEl.classList.remove('colab-df-spinner');\n",
              "          quickchartButtonEl.classList.add('colab-df-quickchart-complete');\n",
              "        }\n",
              "        (() => {\n",
              "          let quickchartButtonEl =\n",
              "            document.querySelector('#df-bfadf577-4653-497c-a5c4-a8b0c49ee014 button');\n",
              "          quickchartButtonEl.style.display =\n",
              "            google.colab.kernel.accessAllowed ? 'block' : 'none';\n",
              "        })();\n",
              "      </script>\n",
              "    </div>\n",
              "\n",
              "    </div>\n",
              "  </div>\n"
            ],
            "application/vnd.google.colaboratory.intrinsic+json": {
              "type": "dataframe",
              "variable_name": "df",
              "summary": "{\n  \"name\": \"df\",\n  \"rows\": 365,\n  \"fields\": [\n    {\n      \"column\": \"date\",\n      \"properties\": {\n        \"dtype\": \"object\",\n        \"num_unique_values\": 365,\n        \"samples\": [\n          \"2024-07-12\",\n          \"2024-02-03\",\n          \"2024-01-16\"\n        ],\n        \"semantic_type\": \"\",\n        \"description\": \"\"\n      }\n    },\n    {\n      \"column\": \"temp\",\n      \"properties\": {\n        \"dtype\": \"number\",\n        \"std\": 5.229512586917965,\n        \"min\": 6.5,\n        \"max\": 33.0,\n        \"num_unique_values\": 167,\n        \"samples\": [\n          7.6,\n          26.7,\n          15.2\n        ],\n        \"semantic_type\": \"\",\n        \"description\": \"\"\n      }\n    },\n    {\n      \"column\": \"rides\",\n      \"properties\": {\n        \"dtype\": \"number\",\n        \"std\": 55,\n        \"min\": 74,\n        \"max\": 352,\n        \"num_unique_values\": 182,\n        \"samples\": [\n          158,\n          96,\n          270\n        ],\n        \"semantic_type\": \"\",\n        \"description\": \"\"\n      }\n    },\n    {\n      \"column\": \"weekday\",\n      \"properties\": {\n        \"dtype\": \"category\",\n        \"num_unique_values\": 7,\n        \"samples\": [\n          \"Monday\",\n          \"Tuesday\",\n          \"Saturday\"\n        ],\n        \"semantic_type\": \"\",\n        \"description\": \"\"\n      }\n    }\n  ]\n}"
            }
          },
          "metadata": {},
          "execution_count": 5
        }
      ]
    },
    {
      "cell_type": "markdown",
      "source": [
        "### Task 4 — Weekday averages"
      ],
      "metadata": {
        "id": "byKd8SFK9w2y"
      }
    },
    {
      "cell_type": "code",
      "source": [
        "# 👉 # TODO: compute and print mean rides per weekday\n",
        "#Mon = df[df['weekday'] == 'Monday']\n",
        "uni = df['weekday'].unique()\n",
        "means_list = []\n",
        "\n",
        "for i in uni:\n",
        "    item = df[df['weekday'] == i]['rides'].mean()\n",
        "    means_list.append(item)\n",
        "\n",
        "for j in range(len(means_list)):\n",
        "    print(f'The mean of rides on {uni[j]} is {means_list[j].round(2)}.')\n",
        "    print()\n",
        "\n",
        "\n",
        "#df.loc(df['weekday'] == 'Monday')\n",
        "#df.query('weekday == Monday')\n",
        "#mean_rides = df['rides'].mean()\n",
        "\n",
        "\n",
        "\n"
      ],
      "metadata": {
        "id": "4rLrxkPj90p3",
        "colab": {
          "base_uri": "https://localhost:8080/"
        },
        "outputId": "c42f6da8-78cd-469b-80b7-b6270fb5d254"
      },
      "execution_count": 6,
      "outputs": [
        {
          "output_type": "stream",
          "name": "stdout",
          "text": [
            "The mean of rides on Monday is 196.83.\n",
            "\n",
            "The mean of rides on Tuesday is 201.46.\n",
            "\n",
            "The mean of rides on Wednesday is 210.58.\n",
            "\n",
            "The mean of rides on Thursday is 206.4.\n",
            "\n",
            "The mean of rides on Friday is 195.94.\n",
            "\n",
            "The mean of rides on Saturday is 188.88.\n",
            "\n",
            "The mean of rides on Sunday is 203.13.\n",
            "\n"
          ]
        }
      ]
    },
    {
      "cell_type": "markdown",
      "source": [
        "## 3 · Matplotlib 📈\n",
        "Quick-start notes\n",
        "Workhorse: pyplot interface (import matplotlib.pyplot as plt)\n",
        "\n",
        "Figure & axes: fig, ax = plt.subplots()\n",
        "\n",
        "Common plots: plot, scatter, hist, imshow\n",
        "\n",
        "Display inline in Jupyter with %matplotlib inline or %matplotlib notebook"
      ],
      "metadata": {
        "id": "gbGMbtLf94M4"
      }
    },
    {
      "cell_type": "markdown",
      "source": [
        "### Task 5 — Scatter plot"
      ],
      "metadata": {
        "id": "QOsToPh2-AnZ"
      }
    },
    {
      "cell_type": "code",
      "source": [
        "# 👉 # TODO: scatter-plot temperature (x) vs rides (y) from df\n",
        "\n",
        "import matplotlib.pyplot as plt\n",
        "\n",
        "x = df['temp']\n",
        "y = df['rides']\n",
        "\n",
        "plt.figure(figsize=(4,2), dpi=150)\n",
        "plt.scatter(x,y,color='blue',marker=\".\")\n",
        "plt.xlabel('Temprature')\n",
        "plt.ylabel('Rides')\n",
        "\n",
        "\n"
      ],
      "metadata": {
        "id": "_pCU2mIH-DAi",
        "colab": {
          "base_uri": "https://localhost:8080/",
          "height": 358
        },
        "outputId": "c464adde-5804-4674-d75e-c99603936eed"
      },
      "execution_count": 56,
      "outputs": [
        {
          "output_type": "execute_result",
          "data": {
            "text/plain": [
              "Text(0, 0.5, 'Rides')"
            ]
          },
          "metadata": {},
          "execution_count": 56
        },
        {
          "output_type": "display_data",
          "data": {
            "text/plain": [
              "<Figure size 600x300 with 1 Axes>"
            ],
            "image/png": "[encoded data removed]"
          },
          "metadata": {}
        }
      ]
    },
    {
      "cell_type": "markdown",
      "source": [
        "### Task 6 — Show the figure\n",
        "\n"
      ],
      "metadata": {
        "id": "TBGXIzVV-E5u"
      }
    },
    {
      "cell_type": "code",
      "source": [
        "# 👉 # TODO: call plt.show() so the plot appears\n",
        "plt.show()\n"
      ],
      "metadata": {
        "id": "ycvsNyqh-GRM"
      },
      "execution_count": 58,
      "outputs": []
    }
  ]
}