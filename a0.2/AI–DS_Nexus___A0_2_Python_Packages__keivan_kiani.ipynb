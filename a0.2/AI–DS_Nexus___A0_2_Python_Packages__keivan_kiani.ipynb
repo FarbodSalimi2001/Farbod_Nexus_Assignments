{
  "nbformat": 4,
  "nbformat_minor": 0,
  "metadata": {
    "colab": {
      "provenance": []
    },
    "kernelspec": {
      "name": "python3",
      "display_name": "Python 3"
    },
    "language_info": {
      "name": "python"
    }
  },
  "cells": [
    {
      "cell_type": "markdown",
      "source": [
        "# 📚 Assignment 2 — NumPy, pandas & Matplotlib Essentials\n",
        "Welcome to your first data-science sprint! In this three-part mini-project you’ll touch the libraries every ML practitioner leans on daily:\n",
        "\n",
        "1. NumPy — fast n-dimensional arrays\n",
        "\n",
        "2. pandas — tabular data wrangling\n",
        "\n",
        "3. Matplotlib — quick, customizable plots\n",
        "\n",
        "Each part starts with “Quick-start notes”, then gives you two bite-sized tasks. Replace every # TODO with working Python in a notebook or script, run it, and check your results. Happy hacking! 😊\n"
      ],
      "metadata": {
        "id": "ZS5lje_18xC2"
      }
    },
    {
      "cell_type": "markdown",
      "source": [
        "## 1 · NumPy 🧮\n",
        "Quick-start notes\n",
        "Core object: ndarray (n-dimensional array)\n",
        "\n",
        "Create data: np.array, np.arange, np.random.*\n",
        "\n",
        "Summaries: mean, std, sum, max, …\n",
        "\n",
        "Vectorised math beats Python loops for speed\n",
        "\n"
      ],
      "metadata": {
        "id": "u5vvtK-6840I"
      }
    },
    {
      "cell_type": "markdown",
      "source": [
        "### Task 1 — Mock temperatures\n",
        "\n"
      ],
      "metadata": {
        "id": "UyNHtkGm9OgH"
      }
    },
    {
      "cell_type": "code",
      "execution_count": null,
      "metadata": {
        "id": "lmaiboJe8E15",
        "outputId": "7d1eb43d-0353-4d77-a777-48908495c9be",
        "colab": {
          "base_uri": "https://localhost:8080/"
        }
      },
      "outputs": [
        {
          "output_type": "stream",
          "name": "stdout",
          "text": [
            "[20.87186808 24.17369461 23.74550508 17.03884119 18.12806458 16.56590257\n",
            " 24.32804554 20.98698378 13.00743827 21.50712979]\n"
          ]
        }
      ],
      "source": [
        "import numpy as np\n",
        "temperatures = np.random.normal(size=365, loc=20, scale=5)\n",
        "\n",
        "# normally-distributed °C values (µ=20, σ=5) called temps\n"
      ]
    },
    {
      "cell_type": "markdown",
      "source": [
        "### Task 2 — Average temperature\n"
      ],
      "metadata": {
        "id": "BtsB8QKM9Xs_"
      }
    },
    {
      "cell_type": "code",
      "source": [
        "print(np.mean(temperatures))"
      ],
      "metadata": {
        "id": "DSR8aS-F9Z10",
        "outputId": "0a3e8bbe-4a64-43a2-d995-78f40d5d30c6",
        "colab": {
          "base_uri": "https://localhost:8080/"
        }
      },
      "execution_count": null,
      "outputs": [
        {
          "output_type": "stream",
          "name": "stdout",
          "text": [
            "20.034160719969634\n"
          ]
        }
      ]
    },
    {
      "cell_type": "markdown",
      "source": [
        "## 2 · pandas 📊\n",
        "Quick-start notes\n",
        "Main structures: DataFrame, Series\n",
        "\n",
        "Read data: pd.read_csv, pd.read_excel, …\n",
        "\n",
        "Selection: .loc[label], .iloc[pos]\n",
        "\n",
        "Group & summarise: .groupby(...).agg(...)\n",
        "\n"
      ],
      "metadata": {
        "id": "8JjHX4wy9dPz"
      }
    },
    {
      "cell_type": "markdown",
      "source": [
        "### Task 3 — Load ride log\n"
      ],
      "metadata": {
        "id": "wRyJyhbt9uUr"
      }
    },
    {
      "cell_type": "code",
      "source": [
        "\n",
        "# (columns: date,temp,rides,weekday)\n",
        "import pandas as pd\n",
        "import numpy as np\n",
        "size = 10\n",
        "rides = pd.DataFrame()\n",
        "rides['date'] = np.random.randint(1,31, size)   # to give the date of a day in a specific month\n",
        "rides['temp'] = np.random.randint(0,40, size)\n",
        "rides['rides'] = np.random.randint(0,40, size)\n",
        "rides['weekday'] = np.random.choice(['sunday','monday','tuesday','wednesday','friday','saturday'], size)\n",
        "\n",
        "rides.to_csv('rides.csv', index=False)\n",
        "\n",
        "df = pd.read_csv('rides.csv')\n"
      ],
      "metadata": {
        "id": "1J4jcLct9yVO",
        "colab": {
          "base_uri": "https://localhost:8080/"
        },
        "outputId": "76ebc563-edce-4585-c24a-46364dcc0d19"
      },
      "execution_count": null,
      "outputs": [
        {
          "output_type": "stream",
          "name": "stdout",
          "text": [
            "   date  temp  rides   weekday\n",
            "0     2     1     37    friday\n",
            "1    10    13     14    friday\n",
            "2    19    17     21   tuesday\n",
            "3    29    26      8  saturday\n",
            "4    13    13     33    friday\n"
          ]
        }
      ]
    },
    {
      "cell_type": "markdown",
      "source": [
        "### Task 4 — Weekday averages"
      ],
      "metadata": {
        "id": "byKd8SFK9w2y"
      }
    },
    {
      "cell_type": "code",
      "source": [
        "# 👉 # TODO: compute and print mean rides per weekday\n",
        "print(df.groupby('weekday')['rides'].mean())"
      ],
      "metadata": {
        "id": "4rLrxkPj90p3",
        "colab": {
          "base_uri": "https://localhost:8080/"
        },
        "outputId": "309d7fca-64bb-4152-9034-26cbbaaa4ef5"
      },
      "execution_count": null,
      "outputs": [
        {
          "output_type": "stream",
          "name": "stdout",
          "text": [
            "weekday\n",
            "friday      28.000000\n",
            "saturday    12.666667\n",
            "sunday      29.500000\n",
            "tuesday     10.500000\n",
            "Name: rides, dtype: float64\n"
          ]
        }
      ]
    },
    {
      "cell_type": "markdown",
      "source": [
        "## 3 · Matplotlib 📈\n",
        "Quick-start notes\n",
        "Workhorse: pyplot interface (import matplotlib.pyplot as plt)\n",
        "\n",
        "Figure & axes: fig, ax = plt.subplots()\n",
        "\n",
        "Common plots: plot, scatter, hist, imshow\n",
        "\n",
        "Display inline in Jupyter with %matplotlib inline or %matplotlib notebook"
      ],
      "metadata": {
        "id": "gbGMbtLf94M4"
      }
    },
    {
      "cell_type": "markdown",
      "source": [
        "### Task 5 — Scatter plot"
      ],
      "metadata": {
        "id": "QOsToPh2-AnZ"
      }
    },
    {
      "cell_type": "code",
      "source": [
        "# 👉 # TODO: scatter-plot temperature (x) vs rides (y) from df\n",
        "import matplotlib.pyplot as plt\n",
        "plt.scatter(x=df['temp'], y=df['rides'])\n",
        "\n",
        "\n"
      ],
      "metadata": {
        "id": "_pCU2mIH-DAi",
        "colab": {
          "base_uri": "https://localhost:8080/",
          "height": 447
        },
        "outputId": "88d94d95-7460-4e8e-d77d-7d1780484117"
      },
      "execution_count": null,
      "outputs": [
        {
          "output_type": "execute_result",
          "data": {
            "text/plain": [
              "<matplotlib.collections.PathCollection at 0x7b979259a950>"
            ]
          },
          "metadata": {},
          "execution_count": 6
        },
        {
          "output_type": "display_data",
          "data": {
            "text/plain": [
              "<Figure size 640x480 with 1 Axes>"
            ],
            "image/png": "[encoded data removed]"
          },
          "metadata": {}
        }
      ]
    },
    {
      "cell_type": "markdown",
      "source": [
        "### Task 6 — Show the figure\n",
        "\n"
      ],
      "metadata": {
        "id": "TBGXIzVV-E5u"
      }
    },
    {
      "cell_type": "code",
      "source": [
        "# 👉 # TODO: call plt.show() so the plot appears\n",
        "plt.show()\n"
      ],
      "metadata": {
        "id": "ycvsNyqh-GRM"
      },
      "execution_count": null,
      "outputs": []
    }
  ]
}