{
  "nbformat": 4,
  "nbformat_minor": 0,
  "metadata": {
    "colab": {
      "provenance": []
    },
    "kernelspec": {
      "name": "python3",
      "display_name": "Python 3"
    },
    "language_info": {
      "name": "python"
    }
  },
  "cells": [
    {
      "cell_type": "markdown",
      "source": [
        "# 📚 Assignment 2 — NumPy, pandas & Matplotlib Essentials\n",
        "Welcome to your first data-science sprint! In this three-part mini-project you’ll touch the libraries every ML practitioner leans on daily:\n",
        "\n",
        "1. NumPy — fast n-dimensional arrays\n",
        "\n",
        "2. pandas — tabular data wrangling\n",
        "\n",
        "3. Matplotlib — quick, customizable plots\n",
        "\n",
        "Each part starts with “Quick-start notes”, then gives you two bite-sized tasks. Replace every # TODO with working Python in a notebook or script, run it, and check your results. Happy hacking! 😊\n"
      ],
      "metadata": {
        "id": "ZS5lje_18xC2"
      }
    },
    {
      "cell_type": "markdown",
      "source": [
        "## 1 · NumPy 🧮\n",
        "Quick-start notes\n",
        "Core object: ndarray (n-dimensional array)\n",
        "\n",
        "Create data: np.array, np.arange, np.random.*\n",
        "\n",
        "Summaries: mean, std, sum, max, …\n",
        "\n",
        "Vectorised math beats Python loops for speed\n",
        "\n"
      ],
      "metadata": {
        "id": "u5vvtK-6840I"
      }
    },
    {
      "cell_type": "markdown",
      "source": [
        "### Task 1 — Mock temperatures\n",
        "\n"
      ],
      "metadata": {
        "id": "UyNHtkGm9OgH"
      }
    },
    {
      "cell_type": "code",
      "execution_count": 2,
      "metadata": {
        "id": "lmaiboJe8E15",
        "colab": {
          "base_uri": "https://localhost:8080/"
        },
        "outputId": "bc5654d9-3a67-4891-a529-0758c958978f"
      },
      "outputs": [
        {
          "output_type": "stream",
          "name": "stdout",
          "text": [
            "[23.90067184 29.40269958 18.46088207 21.49232723 21.15771991 20.6956003\n",
            " 26.40492689 18.44858522 21.69766985 29.85487976 16.85303116 27.28708057\n",
            " 17.71663624 25.57709732 24.15067035 17.533362   22.18291942 24.43935197\n",
            " 22.71650326 17.31434603 19.73456629 20.94407263 13.19237736 33.49616017\n",
            " 16.18686445 17.86579104 21.16693553 21.1009159  17.30391341 20.20025069\n",
            " 21.13647069 30.31589947 21.12585627 16.92483589 11.80218943 18.2168226\n",
            " 19.28025854 27.11911848 15.12436414 25.43949077 23.30559455 20.09746103\n",
            " 25.13870833 25.40498876 18.48235601 15.89847532 13.01901613 25.30804332\n",
            " 22.7983627  20.5322369  15.12829108 11.44707842 27.70233851 27.93086076\n",
            " 16.08781912 18.00425464 19.30612669 13.99129306 19.23386573 13.66172795\n",
            " 13.9728761  27.51019055 19.15067115 21.72712883 10.95771203 18.40553\n",
            " 23.12646634 15.61931916 20.97058253 14.81492548 27.20150478 26.17002717\n",
            " 24.10742759 20.06532142 22.86523048 15.6704628  20.76236276 29.07689603\n",
            " 18.81761707 21.49070411 14.78085377 20.69697864 19.78957278 23.03292182\n",
            " 23.06524145 20.98487756 12.13865986 14.53995777 16.95932951 18.35047572\n",
            " 16.49526845 21.25320076 25.64657505 23.57558385 25.91070989 14.68391372\n",
            " 14.17051219 18.97598765 19.255074   22.1954443  21.64619452 18.68101956\n",
            " 28.49527123 27.02095815 24.26564615 21.52556265 27.16752378 15.81130738\n",
            " 21.07646917 19.6416006  22.95115234 21.73572209 21.31530952 13.38402237\n",
            " 19.27493254 16.56375214 21.07881577 18.03060463 18.18166855 19.22467116\n",
            " 11.08278358 20.91056196 23.08650616 19.7370941  21.16585686 21.1488832\n",
            " 25.86343253 19.51309268 14.05556602 26.18002984 16.70243179 18.50695099\n",
            " 14.53269766 16.71918019 18.64850823 17.73125992 14.30253064 26.89109075\n",
            "  3.38960003 25.61134033 27.47361105 26.6235051  30.0055507  21.05147009\n",
            " 17.00672298 20.8369101  18.17337439 23.4279459  14.2057298  23.03964853\n",
            " 12.62916046 24.42930473 17.18847344 21.06460795 19.51691294 14.54140995\n",
            " 30.15982399 23.9363066  21.05897197 16.87778111 27.57932227 21.32662731\n",
            " 18.22880834 24.01279753 25.00146681 22.03479408 21.18931094 22.80103133\n",
            " 22.32367845 19.53330707 11.79794898 24.45680488 32.26414564 19.03707534\n",
            " 11.03423073 21.44695498 20.02059005 14.38302778 19.09119917 14.21187288\n",
            " 19.73184308 18.58713555  7.46050891 22.89135402 23.25475844 23.46333477\n",
            " 25.06908089 18.61214363 15.099536   19.70518357 13.58338519 14.66044562\n",
            " 19.11410702 22.28947638 16.61239819 20.04211891 22.14365635 22.89743568\n",
            " 14.34014652 19.20020716 23.85398484 23.52273057 18.82283933 15.59993065\n",
            " 14.96741619 23.14682977 15.96501715 31.6850694  18.53490905 18.78558984\n",
            " 22.3096177  21.72716524 18.71332843 18.87044495 22.19608559 21.7802064\n",
            " 27.77031281 19.8032592  23.98945437 18.80575082 16.43855761 12.45686281\n",
            " 14.67965687 26.20296662 28.98445334 24.83158627 17.31791016 17.0451872\n",
            " 21.86330457 18.60747163 22.71152122 17.56526244 18.48043322  9.94334817\n",
            " 13.66947469 15.86747309 17.69927358 11.82798186 20.85942448 14.70509612\n",
            " 19.55337945 21.51705019 12.62876936 18.47429521 24.56741013 18.29088983\n",
            " 17.34850567 25.57811534 16.91916939 12.94003854 15.04864052 21.12953898\n",
            " 29.55730966 30.62324838 18.84449227 11.83732178 19.84033156 19.58548499\n",
            " 12.11526416 29.33921605 20.05290482 27.49782261 25.03499622 13.30541064\n",
            " 19.60611397 14.89594719 17.0396137  13.72595814 24.58306696 29.91165101\n",
            " 23.51438739 21.207506   15.71058893 12.02297401 18.32955144 23.95100162\n",
            " 26.59880782 27.53828144 18.4621099  24.86797051 17.13570838 18.43996225\n",
            " 16.46939349 21.53016085 21.85821953 10.06527341 13.52995227 19.07299955\n",
            " 19.38740865 19.75645411 17.39602595 35.3383975  15.05970491 20.69741173\n",
            " 24.49696045 17.73701516 28.98078839 22.74738837 23.59344461 24.75574356\n",
            " 12.31541876 23.63636924 28.23491549 16.71380739 18.28567002 21.22139681\n",
            " 19.261486   24.99051974 21.10407124 14.31618619 14.2894888   8.14501705\n",
            " 14.69142315 22.65318056 30.01767839 24.48797059 11.60889935 17.03133781\n",
            " 24.62128796 24.54601752 29.66343603 15.27719254 10.36207147 10.64017158\n",
            " 17.92201076 14.38304564 30.42696196 20.96989873 19.94113984 21.18326228\n",
            " 17.7119247  15.61730102 16.32540115 18.1093378  21.72921588 13.41097534\n",
            " 23.35750243 18.77587941 24.28921941 13.55922083 15.44437686 17.44860234\n",
            " 20.04750672 18.96337439 17.15763224 19.65186651 18.18426229 17.97610284\n",
            " 17.70158038 23.9275632  18.94863655 16.70808085 22.9466843  18.12094241\n",
            " 21.14199055 16.18165963 23.12865847 20.61867242 22.2760712  26.98449288\n",
            " 14.21176551 24.12512505 21.58995759 22.97612924 23.34899271]\n"
          ]
        }
      ],
      "source": [
        "# 👉 # TODO: import numpy and create an array of 365\n",
        "# normally-distributed °C values (µ=20, σ=5) called temps\n",
        "import numpy as np\n",
        "temps = np.random.normal(20, 5, 365)\n",
        "print (temps)\n"
      ]
    },
    {
      "cell_type": "markdown",
      "source": [
        "### Task 2 — Average temperature\n"
      ],
      "metadata": {
        "id": "BtsB8QKM9Xs_"
      }
    },
    {
      "cell_type": "code",
      "source": [
        "# 👉 # TODO: print the mean of temps\n",
        "\n",
        "print (np.mean(temps))\n"
      ],
      "metadata": {
        "id": "DSR8aS-F9Z10",
        "colab": {
          "base_uri": "https://localhost:8080/"
        },
        "outputId": "22e0005c-45e3-46aa-f5f1-ad0b681c9d1f"
      },
      "execution_count": 3,
      "outputs": [
        {
          "output_type": "stream",
          "name": "stdout",
          "text": [
            "20.062871117750095\n"
          ]
        }
      ]
    },
    {
      "cell_type": "markdown",
      "source": [
        "## 2 · pandas 📊\n",
        "Quick-start notes\n",
        "Main structures: DataFrame, Series\n",
        "\n",
        "Read data: pd.read_csv, pd.read_excel, …\n",
        "\n",
        "Selection: .loc[label], .iloc[pos]\n",
        "\n",
        "Group & summarise: .groupby(...).agg(...)\n",
        "\n"
      ],
      "metadata": {
        "id": "8JjHX4wy9dPz"
      }
    },
    {
      "cell_type": "markdown",
      "source": [
        "### Task 3 — Load ride log\n"
      ],
      "metadata": {
        "id": "wRyJyhbt9uUr"
      }
    },
    {
      "cell_type": "code",
      "source": [
        "# 👉 # TODO: read \"rides.csv\" into df\n",
        "# (columns: date,temp,rides,weekday)\n",
        "\n",
        "import pandas as pd\n",
        "\n",
        "df = pd.read_csv(\"rides.csv\")"
      ],
      "metadata": {
        "id": "1J4jcLct9yVO",
        "colab": {
          "base_uri": "https://localhost:8080/",
          "height": 333
        },
        "outputId": "981d780b-9071-4f99-9cbd-051fd6040eee"
      },
      "execution_count": 4,
      "outputs": [
        {
          "output_type": "error",
          "ename": "FileNotFoundError",
          "evalue": "[Errno 2] No such file or directory: 'rides.csv'",
          "traceback": [
            "\u001b[0;31m---------------------------------------------------------------------------\u001b[0m",
            "\u001b[0;31mFileNotFoundError\u001b[0m                         Traceback (most recent call last)",
            "\u001b[0;32m/tmp/ipython-input-4-3051610221.py\u001b[0m in \u001b[0;36m<cell line: 0>\u001b[0;34m()\u001b[0m\n\u001b[1;32m      4\u001b[0m \u001b[0;32mimport\u001b[0m \u001b[0mpandas\u001b[0m \u001b[0;32mas\u001b[0m \u001b[0mpd\u001b[0m\u001b[0;34m\u001b[0m\u001b[0;34m\u001b[0m\u001b[0m\n\u001b[1;32m      5\u001b[0m \u001b[0;34m\u001b[0m\u001b[0m\n\u001b[0;32m----> 6\u001b[0;31m \u001b[0mdf\u001b[0m \u001b[0;34m=\u001b[0m \u001b[0mpd\u001b[0m\u001b[0;34m.\u001b[0m\u001b[0mread_csv\u001b[0m\u001b[0;34m(\u001b[0m\u001b[0;34m\"rides.csv\"\u001b[0m\u001b[0;34m)\u001b[0m\u001b[0;34m\u001b[0m\u001b[0;34m\u001b[0m\u001b[0m\n\u001b[0m",
            "\u001b[0;32m/usr/local/lib/python3.11/dist-packages/pandas/io/parsers/readers.py\u001b[0m in \u001b[0;36mread_csv\u001b[0;34m(filepath_or_buffer, sep, delimiter, header, names, index_col, usecols, dtype, engine, converters, true_values, false_values, skipinitialspace, skiprows, skipfooter, nrows, na_values, keep_default_na, na_filter, verbose, skip_blank_lines, parse_dates, infer_datetime_format, keep_date_col, date_parser, date_format, dayfirst, cache_dates, iterator, chunksize, compression, thousands, decimal, lineterminator, quotechar, quoting, doublequote, escapechar, comment, encoding, encoding_errors, dialect, on_bad_lines, delim_whitespace, low_memory, memory_map, float_precision, storage_options, dtype_backend)\u001b[0m\n\u001b[1;32m   1024\u001b[0m     \u001b[0mkwds\u001b[0m\u001b[0;34m.\u001b[0m\u001b[0mupdate\u001b[0m\u001b[0;34m(\u001b[0m\u001b[0mkwds_defaults\u001b[0m\u001b[0;34m)\u001b[0m\u001b[0;34m\u001b[0m\u001b[0;34m\u001b[0m\u001b[0m\n\u001b[1;32m   1025\u001b[0m \u001b[0;34m\u001b[0m\u001b[0m\n\u001b[0;32m-> 1026\u001b[0;31m     \u001b[0;32mreturn\u001b[0m \u001b[0m_read\u001b[0m\u001b[0;34m(\u001b[0m\u001b[0mfilepath_or_buffer\u001b[0m\u001b[0;34m,\u001b[0m \u001b[0mkwds\u001b[0m\u001b[0;34m)\u001b[0m\u001b[0;34m\u001b[0m\u001b[0;34m\u001b[0m\u001b[0m\n\u001b[0m\u001b[1;32m   1027\u001b[0m \u001b[0;34m\u001b[0m\u001b[0m\n\u001b[1;32m   1028\u001b[0m \u001b[0;34m\u001b[0m\u001b[0m\n",
            "\u001b[0;32m/usr/local/lib/python3.11/dist-packages/pandas/io/parsers/readers.py\u001b[0m in \u001b[0;36m_read\u001b[0;34m(filepath_or_buffer, kwds)\u001b[0m\n\u001b[1;32m    618\u001b[0m \u001b[0;34m\u001b[0m\u001b[0m\n\u001b[1;32m    619\u001b[0m     \u001b[0;31m# Create the parser.\u001b[0m\u001b[0;34m\u001b[0m\u001b[0;34m\u001b[0m\u001b[0m\n\u001b[0;32m--> 620\u001b[0;31m     \u001b[0mparser\u001b[0m \u001b[0;34m=\u001b[0m \u001b[0mTextFileReader\u001b[0m\u001b[0;34m(\u001b[0m\u001b[0mfilepath_or_buffer\u001b[0m\u001b[0;34m,\u001b[0m \u001b[0;34m**\u001b[0m\u001b[0mkwds\u001b[0m\u001b[0;34m)\u001b[0m\u001b[0;34m\u001b[0m\u001b[0;34m\u001b[0m\u001b[0m\n\u001b[0m\u001b[1;32m    621\u001b[0m \u001b[0;34m\u001b[0m\u001b[0m\n\u001b[1;32m    622\u001b[0m     \u001b[0;32mif\u001b[0m \u001b[0mchunksize\u001b[0m \u001b[0;32mor\u001b[0m \u001b[0miterator\u001b[0m\u001b[0;34m:\u001b[0m\u001b[0;34m\u001b[0m\u001b[0;34m\u001b[0m\u001b[0m\n",
            "\u001b[0;32m/usr/local/lib/python3.11/dist-packages/pandas/io/parsers/readers.py\u001b[0m in \u001b[0;36m__init__\u001b[0;34m(self, f, engine, **kwds)\u001b[0m\n\u001b[1;32m   1618\u001b[0m \u001b[0;34m\u001b[0m\u001b[0m\n\u001b[1;32m   1619\u001b[0m         \u001b[0mself\u001b[0m\u001b[0;34m.\u001b[0m\u001b[0mhandles\u001b[0m\u001b[0;34m:\u001b[0m \u001b[0mIOHandles\u001b[0m \u001b[0;34m|\u001b[0m \u001b[0;32mNone\u001b[0m \u001b[0;34m=\u001b[0m \u001b[0;32mNone\u001b[0m\u001b[0;34m\u001b[0m\u001b[0;34m\u001b[0m\u001b[0m\n\u001b[0;32m-> 1620\u001b[0;31m         \u001b[0mself\u001b[0m\u001b[0;34m.\u001b[0m\u001b[0m_engine\u001b[0m \u001b[0;34m=\u001b[0m \u001b[0mself\u001b[0m\u001b[0;34m.\u001b[0m\u001b[0m_make_engine\u001b[0m\u001b[0;34m(\u001b[0m\u001b[0mf\u001b[0m\u001b[0;34m,\u001b[0m \u001b[0mself\u001b[0m\u001b[0;34m.\u001b[0m\u001b[0mengine\u001b[0m\u001b[0;34m)\u001b[0m\u001b[0;34m\u001b[0m\u001b[0;34m\u001b[0m\u001b[0m\n\u001b[0m\u001b[1;32m   1621\u001b[0m \u001b[0;34m\u001b[0m\u001b[0m\n\u001b[1;32m   1622\u001b[0m     \u001b[0;32mdef\u001b[0m \u001b[0mclose\u001b[0m\u001b[0;34m(\u001b[0m\u001b[0mself\u001b[0m\u001b[0;34m)\u001b[0m \u001b[0;34m->\u001b[0m \u001b[0;32mNone\u001b[0m\u001b[0;34m:\u001b[0m\u001b[0;34m\u001b[0m\u001b[0;34m\u001b[0m\u001b[0m\n",
            "\u001b[0;32m/usr/local/lib/python3.11/dist-packages/pandas/io/parsers/readers.py\u001b[0m in \u001b[0;36m_make_engine\u001b[0;34m(self, f, engine)\u001b[0m\n\u001b[1;32m   1878\u001b[0m                 \u001b[0;32mif\u001b[0m \u001b[0;34m\"b\"\u001b[0m \u001b[0;32mnot\u001b[0m \u001b[0;32min\u001b[0m \u001b[0mmode\u001b[0m\u001b[0;34m:\u001b[0m\u001b[0;34m\u001b[0m\u001b[0;34m\u001b[0m\u001b[0m\n\u001b[1;32m   1879\u001b[0m                     \u001b[0mmode\u001b[0m \u001b[0;34m+=\u001b[0m \u001b[0;34m\"b\"\u001b[0m\u001b[0;34m\u001b[0m\u001b[0;34m\u001b[0m\u001b[0m\n\u001b[0;32m-> 1880\u001b[0;31m             self.handles = get_handle(\n\u001b[0m\u001b[1;32m   1881\u001b[0m                 \u001b[0mf\u001b[0m\u001b[0;34m,\u001b[0m\u001b[0;34m\u001b[0m\u001b[0;34m\u001b[0m\u001b[0m\n\u001b[1;32m   1882\u001b[0m                 \u001b[0mmode\u001b[0m\u001b[0;34m,\u001b[0m\u001b[0;34m\u001b[0m\u001b[0;34m\u001b[0m\u001b[0m\n",
            "\u001b[0;32m/usr/local/lib/python3.11/dist-packages/pandas/io/common.py\u001b[0m in \u001b[0;36mget_handle\u001b[0;34m(path_or_buf, mode, encoding, compression, memory_map, is_text, errors, storage_options)\u001b[0m\n\u001b[1;32m    871\u001b[0m         \u001b[0;32mif\u001b[0m \u001b[0mioargs\u001b[0m\u001b[0;34m.\u001b[0m\u001b[0mencoding\u001b[0m \u001b[0;32mand\u001b[0m \u001b[0;34m\"b\"\u001b[0m \u001b[0;32mnot\u001b[0m \u001b[0;32min\u001b[0m \u001b[0mioargs\u001b[0m\u001b[0;34m.\u001b[0m\u001b[0mmode\u001b[0m\u001b[0;34m:\u001b[0m\u001b[0;34m\u001b[0m\u001b[0;34m\u001b[0m\u001b[0m\n\u001b[1;32m    872\u001b[0m             \u001b[0;31m# Encoding\u001b[0m\u001b[0;34m\u001b[0m\u001b[0;34m\u001b[0m\u001b[0m\n\u001b[0;32m--> 873\u001b[0;31m             handle = open(\n\u001b[0m\u001b[1;32m    874\u001b[0m                 \u001b[0mhandle\u001b[0m\u001b[0;34m,\u001b[0m\u001b[0;34m\u001b[0m\u001b[0;34m\u001b[0m\u001b[0m\n\u001b[1;32m    875\u001b[0m                 \u001b[0mioargs\u001b[0m\u001b[0;34m.\u001b[0m\u001b[0mmode\u001b[0m\u001b[0;34m,\u001b[0m\u001b[0;34m\u001b[0m\u001b[0;34m\u001b[0m\u001b[0m\n",
            "\u001b[0;31mFileNotFoundError\u001b[0m: [Errno 2] No such file or directory: 'rides.csv'"
          ]
        }
      ]
    },
    {
      "cell_type": "markdown",
      "source": [
        "### Task 4 — Weekday averages"
      ],
      "metadata": {
        "id": "byKd8SFK9w2y"
      }
    },
    {
      "cell_type": "code",
      "source": [
        "# 👉 # TODO: compute and print mean rides per weekday\n",
        "\n",
        "mean_rides = df.groupby('weekday')['rides'].mean()\n",
        "\n",
        "\n",
        "print(mean_rides)\n"
      ],
      "metadata": {
        "id": "4rLrxkPj90p3"
      },
      "execution_count": null,
      "outputs": []
    },
    {
      "cell_type": "markdown",
      "source": [
        "## 3 · Matplotlib 📈\n",
        "Quick-start notes\n",
        "Workhorse: pyplot interface (import matplotlib.pyplot as plt)\n",
        "\n",
        "Figure & axes: fig, ax = plt.subplots()\n",
        "\n",
        "Common plots: plot, scatter, hist, imshow\n",
        "\n",
        "Display inline in Jupyter with %matplotlib inline or %matplotlib notebook"
      ],
      "metadata": {
        "id": "gbGMbtLf94M4"
      }
    },
    {
      "cell_type": "markdown",
      "source": [
        "### Task 5 — Scatter plot"
      ],
      "metadata": {
        "id": "QOsToPh2-AnZ"
      }
    },
    {
      "cell_type": "code",
      "source": [
        "# 👉 # TODO: scatter-plot temperature (x) vs rides (y) from df\n",
        "import matplotlib.pyplot as plt\n",
        "\n",
        "plt.scatter(df['temp'], df['rides'])\n",
        "plt.xlabel('Temperature (°C)')\n",
        "plt.ylabel('Number of Rides')\n",
        "plt.title('Scatter Plot of Temperature vs Rides')\n"
      ],
      "metadata": {
        "id": "_pCU2mIH-DAi",
        "colab": {
          "base_uri": "https://localhost:8080/",
          "height": 207
        },
        "outputId": "8eb67d96-9353-4f00-b493-3655574919cc"
      },
      "execution_count": 5,
      "outputs": [
        {
          "output_type": "error",
          "ename": "NameError",
          "evalue": "name 'df' is not defined",
          "traceback": [
            "\u001b[0;31m---------------------------------------------------------------------------\u001b[0m",
            "\u001b[0;31mNameError\u001b[0m                                 Traceback (most recent call last)",
            "\u001b[0;32m/tmp/ipython-input-5-362251280.py\u001b[0m in \u001b[0;36m<cell line: 0>\u001b[0;34m()\u001b[0m\n\u001b[1;32m      2\u001b[0m \u001b[0;32mimport\u001b[0m \u001b[0mmatplotlib\u001b[0m\u001b[0;34m.\u001b[0m\u001b[0mpyplot\u001b[0m \u001b[0;32mas\u001b[0m \u001b[0mplt\u001b[0m\u001b[0;34m\u001b[0m\u001b[0;34m\u001b[0m\u001b[0m\n\u001b[1;32m      3\u001b[0m \u001b[0;34m\u001b[0m\u001b[0m\n\u001b[0;32m----> 4\u001b[0;31m \u001b[0mplt\u001b[0m\u001b[0;34m.\u001b[0m\u001b[0mscatter\u001b[0m\u001b[0;34m(\u001b[0m\u001b[0mdf\u001b[0m\u001b[0;34m[\u001b[0m\u001b[0;34m'temp'\u001b[0m\u001b[0;34m]\u001b[0m\u001b[0;34m,\u001b[0m \u001b[0mdf\u001b[0m\u001b[0;34m[\u001b[0m\u001b[0;34m'rides'\u001b[0m\u001b[0;34m]\u001b[0m\u001b[0;34m)\u001b[0m\u001b[0;34m\u001b[0m\u001b[0;34m\u001b[0m\u001b[0m\n\u001b[0m\u001b[1;32m      5\u001b[0m \u001b[0mplt\u001b[0m\u001b[0;34m.\u001b[0m\u001b[0mxlabel\u001b[0m\u001b[0;34m(\u001b[0m\u001b[0;34m'Temperature (°C)'\u001b[0m\u001b[0;34m)\u001b[0m\u001b[0;34m\u001b[0m\u001b[0;34m\u001b[0m\u001b[0m\n\u001b[1;32m      6\u001b[0m \u001b[0mplt\u001b[0m\u001b[0;34m.\u001b[0m\u001b[0mylabel\u001b[0m\u001b[0;34m(\u001b[0m\u001b[0;34m'Number of Rides'\u001b[0m\u001b[0;34m)\u001b[0m\u001b[0;34m\u001b[0m\u001b[0;34m\u001b[0m\u001b[0m\n",
            "\u001b[0;31mNameError\u001b[0m: name 'df' is not defined"
          ]
        }
      ]
    },
    {
      "cell_type": "markdown",
      "source": [
        "### Task 6 — Show the figure\n",
        "\n"
      ],
      "metadata": {
        "id": "TBGXIzVV-E5u"
      }
    },
    {
      "cell_type": "code",
      "source": [
        "# 👉 # TODO: call plt.show() so the plot appears\n",
        "plt.show()\n",
        "\n"
      ],
      "metadata": {
        "id": "ycvsNyqh-GRM"
      },
      "execution_count": null,
      "outputs": []
    }
  ]
}