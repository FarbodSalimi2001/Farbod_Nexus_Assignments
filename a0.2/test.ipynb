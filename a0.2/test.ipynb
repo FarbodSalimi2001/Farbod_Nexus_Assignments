{
 "cells": [
  {
   "cell_type": "code",
   "execution_count": 1,
   "id": "a59db399",
   "metadata": {},
   "outputs": [],
   "source": [
    "import numpy as np\n",
    "import pandas as pd\n",
    "import matplotlib.pyplot as plt"
   ]
  },
  {
   "cell_type": "markdown",
   "id": "be42e505",
   "metadata": {},
   "source": [
    "----"
   ]
  },
  {
   "cell_type": "markdown",
   "id": "5cf5d921",
   "metadata": {},
   "source": [
    "Task 1 — Mock temperatures"
   ]
  },
  {
   "cell_type": "code",
   "execution_count": 3,
   "id": "30bf384e",
   "metadata": {},
   "outputs": [
    {
     "data": {
      "text/plain": [
       "array([24.92188087, 14.66342253, 16.91596231, 18.39031725, 35.71443555,\n",
       "       11.761076  , 18.94745071, 22.92437626, 22.28475731, 13.34842299,\n",
       "       24.24198162, 21.88616352, 26.15741313, 24.73266826, 15.31458005,\n",
       "       12.83440317, 22.52864993, 19.43136622, 15.25412569, 10.43311609,\n",
       "       15.62513722, 20.11324381, 25.68864306, 25.61124614, 11.35961002,\n",
       "       14.48748843, 24.53647186, 24.16904711, 17.89488067, 18.34465475,\n",
       "        8.37557468, 25.54942089, 19.96792468,  9.1677326 , 18.48339421,\n",
       "       25.28694692, 22.38100492, 16.62432723, 14.1840333 , 18.21000376,\n",
       "       25.17475263, 20.29459535, 24.81942232, 13.72797245, 15.33349673,\n",
       "       22.76244034, 22.95264979, 15.15378183, 20.37900932, 18.09012014,\n",
       "       22.3804674 , 24.62453938, 19.23078009, 14.34470673, 11.71637242,\n",
       "       11.36410484, 20.95955628, 15.14171577, 14.33858938, 16.61055534,\n",
       "       23.65380213, 12.98779247, 24.27766783, 15.29180754, 21.85668704,\n",
       "       21.2456193 ,  9.65982838, 23.05509071, 14.42543881, 22.64163944,\n",
       "       23.21966608, 23.92402991, 23.36160011, 18.28180068, 17.40547175,\n",
       "       22.81713657, 22.34574557, 19.26767409, 22.57045485, 20.73405042,\n",
       "       18.63694053, 21.79363198, 19.12471342, 19.37450369, 23.09828138,\n",
       "       16.32737955, 18.8079356 , 16.16624095, 19.56069544, 14.88310066,\n",
       "       20.38716289, 21.45641249, 11.22228943, 13.25368154, 10.56412843,\n",
       "       23.31654419, 15.62327832, 15.45453973, 20.4436826 ,  9.78985438,\n",
       "       32.8868403 , 21.47809973, 13.65944899, 15.91987946, 21.15541215,\n",
       "       19.71319546, 27.84811942, 20.42274226, 21.27280638, 22.95674908,\n",
       "       30.14004372, 15.47649757, 23.54153486, 12.82349433, 16.97511797,\n",
       "       12.03606905, 21.69050938, 26.98558916, 21.7942481 , 23.50408553,\n",
       "       24.37705926, 12.81901638, 22.98978642, 18.91709081, 25.26599416,\n",
       "        9.07988769, 19.14463961, 26.48706689, 16.01503162, 14.59873773,\n",
       "       18.18980659, 22.54320379,  9.30479283, 19.05065508, 21.05145526,\n",
       "       15.06150349, 25.15769723, 22.25956048, 18.74726217, 20.07580644,\n",
       "       16.45132268, 28.88522709, 22.15797593, 29.0692158 , 21.81775786,\n",
       "        8.11412931, 16.94541885, 27.2523819 , 16.31472436, 18.34744065,\n",
       "       10.4104285 , 19.61483981, 18.86536088, 20.35598358, 15.41654969,\n",
       "       24.71003115, 22.53363057, 26.45347262, 23.05910889, 14.08765763,\n",
       "       22.54334246, 20.16290844, 21.64827912, 19.83016536, 16.28845014,\n",
       "       11.52243176, 16.80646523, 22.62410191, 19.20147886, 16.67512587,\n",
       "       17.31531897, 20.00915273, 26.18687676, 10.45298497, 26.71164121,\n",
       "       18.59026886, 24.27528211, 24.68836812, 15.49798731, 17.47067891,\n",
       "       21.08267472, 16.11840164, 27.41198693,  9.98331978, 26.39522162,\n",
       "       17.34677908, 27.62492526, 23.08688204, 17.28744109, 14.85649157,\n",
       "       16.35754447, 15.73620324, 22.8873258 , 21.93612078, 15.03435824,\n",
       "       22.56404186, 28.47479331, 17.20747615, 23.43871265, 20.3489426 ,\n",
       "       18.49190133, 16.40605641, 32.97044035, 27.42463511, 23.98180519,\n",
       "       26.13361316, 29.75875762, 11.51265147, 29.39800402, 23.15892457,\n",
       "       17.89279183, 24.624657  , 21.85717902, 25.64371826, 21.95921321,\n",
       "       26.52546915, 26.3706174 , 23.3493842 , 22.0323053 , 25.86292674,\n",
       "       25.43658028, 18.79990114, 20.97207494, 22.0431409 , 24.60044578,\n",
       "       24.2238525 , 22.44566208, 27.82506665, 18.26636398, 17.86549032,\n",
       "       14.91890507, 23.62589664, 22.85044754, 27.78429139, 13.46286478,\n",
       "       19.30824904, 19.34599376, 13.16210376, 18.18826419, 19.41000573,\n",
       "       30.57308374, 13.65972757, 28.96261397, 26.69517808, 18.47737233,\n",
       "       19.06856206, 16.41389449, 12.35231131, 24.426267  , 17.87005991,\n",
       "       22.57701699, 14.61392771, 26.30993202, 24.5682183 , 16.55825362,\n",
       "       30.79433173, 25.73006674, 18.24725165, 26.11044746, 14.29365115,\n",
       "       18.70589318, 22.97537961, 18.43377003, 19.57095082, 24.58410579,\n",
       "       18.76827279, 13.53460507, 21.95582311, 17.95567381, 20.72358185,\n",
       "       30.06626807, 16.7150476 , 12.19705297, 24.22936821, 23.80953225,\n",
       "       19.01409837, 20.00086749,  9.7159732 , 24.03211206, 27.95567192,\n",
       "       15.90550692, 15.49435659, 25.14959207, 20.45798661, 19.69359829,\n",
       "       22.56273017, 11.62991604, 19.87030191, 18.79860196, 18.83333121,\n",
       "       25.20423962, 16.93332244, 23.95697983,  8.92763092, 20.34786637,\n",
       "       27.10031744, 12.66446827, 20.33718708, 22.00611937, 11.89492032,\n",
       "       15.44624492, 32.00611721, 26.0021877 , 11.93537181, 24.24405612,\n",
       "       19.7102312 , 14.72324079, 23.55583656, 26.89771641, 22.98057739,\n",
       "       26.68093072, 17.15978059, 21.8148752 , 11.86374301, 21.09537926,\n",
       "       15.70204006, 23.04576652, 22.32444112, 21.77635329, 27.90774363,\n",
       "       18.04841156, 28.31101418, 16.99992831, 18.325758  , 16.03073005,\n",
       "       23.21614046, 23.14219712, 22.44918601, 16.3358504 , 20.86501101,\n",
       "       19.64517512, 19.78482494, 14.90505138, 16.84009332, 11.82311279,\n",
       "       15.63752016, 19.51630169, 26.56284863, 15.46360524, 16.93138343,\n",
       "       17.52819527, 24.97456318, 12.89074558, 18.74651813, 15.14001015,\n",
       "       21.45389234, 19.59229182, 24.85050571, 17.97080537, 15.8499401 ,\n",
       "       14.64578137, 11.76421147, 12.4512629 , 25.1767913 , 19.07182353,\n",
       "       17.10974861,  7.57597585, 23.72707737, 23.02844551, 14.28343795,\n",
       "       23.85159077, 28.78057853, 25.37743784, 18.50842541, 20.82680799])"
      ]
     },
     "execution_count": 3,
     "metadata": {},
     "output_type": "execute_result"
    }
   ],
   "source": [
    "temps = np.random.normal(loc=20 , scale=5 , size=365)\n",
    "temps"
   ]
  },
  {
   "cell_type": "markdown",
   "id": "d3450142",
   "metadata": {},
   "source": [
    "----"
   ]
  },
  {
   "cell_type": "markdown",
   "id": "df45c2b6",
   "metadata": {},
   "source": [
    "Task 2 — Average temperature"
   ]
  },
  {
   "cell_type": "code",
   "execution_count": 7,
   "id": "8906e8e8",
   "metadata": {},
   "outputs": [
    {
     "name": "stdout",
     "output_type": "stream",
     "text": [
      "19.92\n"
     ]
    }
   ],
   "source": [
    "mean_temps = np.mean(temps)\n",
    "mean_temps = round(mean_temps , 2)\n",
    "print(mean_temps)"
   ]
  },
  {
   "cell_type": "markdown",
   "id": "8a095a62",
   "metadata": {},
   "source": [
    "----"
   ]
  },
  {
   "cell_type": "markdown",
   "id": "7208643a",
   "metadata": {},
   "source": [
    "Task 3 — Load ride log"
   ]
  },
  {
   "cell_type": "code",
   "execution_count": 8,
   "id": "3aeb1378",
   "metadata": {},
   "outputs": [
    {
     "data": {
      "text/html": [
       "<div>\n",
       "<style scoped>\n",
       "    .dataframe tbody tr th:only-of-type {\n",
       "        vertical-align: middle;\n",
       "    }\n",
       "\n",
       "    .dataframe tbody tr th {\n",
       "        vertical-align: top;\n",
       "    }\n",
       "\n",
       "    .dataframe thead th {\n",
       "        text-align: right;\n",
       "    }\n",
       "</style>\n",
       "<table border=\"1\" class=\"dataframe\">\n",
       "  <thead>\n",
       "    <tr style=\"text-align: right;\">\n",
       "      <th></th>\n",
       "      <th>date</th>\n",
       "      <th>temp</th>\n",
       "      <th>rides</th>\n",
       "      <th>weekday</th>\n",
       "    </tr>\n",
       "  </thead>\n",
       "  <tbody>\n",
       "    <tr>\n",
       "      <th>0</th>\n",
       "      <td>2024-01-01</td>\n",
       "      <td>13.3</td>\n",
       "      <td>141</td>\n",
       "      <td>Monday</td>\n",
       "    </tr>\n",
       "    <tr>\n",
       "      <th>1</th>\n",
       "      <td>2024-01-02</td>\n",
       "      <td>18.4</td>\n",
       "      <td>174</td>\n",
       "      <td>Tuesday</td>\n",
       "    </tr>\n",
       "    <tr>\n",
       "      <th>2</th>\n",
       "      <td>2024-01-03</td>\n",
       "      <td>25.3</td>\n",
       "      <td>256</td>\n",
       "      <td>Wednesday</td>\n",
       "    </tr>\n",
       "    <tr>\n",
       "      <th>3</th>\n",
       "      <td>2024-01-04</td>\n",
       "      <td>19.5</td>\n",
       "      <td>188</td>\n",
       "      <td>Thursday</td>\n",
       "    </tr>\n",
       "    <tr>\n",
       "      <th>4</th>\n",
       "      <td>2024-01-05</td>\n",
       "      <td>25.6</td>\n",
       "      <td>234</td>\n",
       "      <td>Friday</td>\n",
       "    </tr>\n",
       "    <tr>\n",
       "      <th>...</th>\n",
       "      <td>...</td>\n",
       "      <td>...</td>\n",
       "      <td>...</td>\n",
       "      <td>...</td>\n",
       "    </tr>\n",
       "    <tr>\n",
       "      <th>360</th>\n",
       "      <td>2024-12-26</td>\n",
       "      <td>20.0</td>\n",
       "      <td>166</td>\n",
       "      <td>Thursday</td>\n",
       "    </tr>\n",
       "    <tr>\n",
       "      <th>361</th>\n",
       "      <td>2024-12-27</td>\n",
       "      <td>24.6</td>\n",
       "      <td>275</td>\n",
       "      <td>Friday</td>\n",
       "    </tr>\n",
       "    <tr>\n",
       "      <th>362</th>\n",
       "      <td>2024-12-28</td>\n",
       "      <td>16.1</td>\n",
       "      <td>171</td>\n",
       "      <td>Saturday</td>\n",
       "    </tr>\n",
       "    <tr>\n",
       "      <th>363</th>\n",
       "      <td>2024-12-29</td>\n",
       "      <td>18.3</td>\n",
       "      <td>216</td>\n",
       "      <td>Sunday</td>\n",
       "    </tr>\n",
       "    <tr>\n",
       "      <th>364</th>\n",
       "      <td>2024-12-30</td>\n",
       "      <td>20.6</td>\n",
       "      <td>213</td>\n",
       "      <td>Monday</td>\n",
       "    </tr>\n",
       "  </tbody>\n",
       "</table>\n",
       "<p>365 rows × 4 columns</p>\n",
       "</div>"
      ],
      "text/plain": [
       "           date  temp  rides    weekday\n",
       "0    2024-01-01  13.3    141     Monday\n",
       "1    2024-01-02  18.4    174    Tuesday\n",
       "2    2024-01-03  25.3    256  Wednesday\n",
       "3    2024-01-04  19.5    188   Thursday\n",
       "4    2024-01-05  25.6    234     Friday\n",
       "..          ...   ...    ...        ...\n",
       "360  2024-12-26  20.0    166   Thursday\n",
       "361  2024-12-27  24.6    275     Friday\n",
       "362  2024-12-28  16.1    171   Saturday\n",
       "363  2024-12-29  18.3    216     Sunday\n",
       "364  2024-12-30  20.6    213     Monday\n",
       "\n",
       "[365 rows x 4 columns]"
      ]
     },
     "execution_count": 8,
     "metadata": {},
     "output_type": "execute_result"
    }
   ],
   "source": [
    "df = pd.read_csv(\"../datasets/rides.csv\")\n",
    "df"
   ]
  },
  {
   "cell_type": "markdown",
   "id": "0d0417a2",
   "metadata": {},
   "source": [
    "----"
   ]
  },
  {
   "cell_type": "markdown",
   "id": "80ebe439",
   "metadata": {},
   "source": [
    "Task 4 — Weekday averages"
   ]
  },
  {
   "cell_type": "code",
   "execution_count": 9,
   "id": "7faf8adf",
   "metadata": {},
   "outputs": [
    {
     "data": {
      "text/plain": [
       "weekday\n",
       "Friday       195.942308\n",
       "Monday       196.830189\n",
       "Saturday     188.884615\n",
       "Sunday       203.134615\n",
       "Thursday     206.403846\n",
       "Tuesday      201.461538\n",
       "Wednesday    210.576923\n",
       "Name: rides, dtype: float64"
      ]
     },
     "execution_count": 9,
     "metadata": {},
     "output_type": "execute_result"
    }
   ],
   "source": [
    "mean_rides = df.groupby(\"weekday\")[\"rides\"].mean()\n",
    "mean_rides"
   ]
  },
  {
   "cell_type": "markdown",
   "id": "77ae5ab0",
   "metadata": {},
   "source": [
    "-----"
   ]
  },
  {
   "cell_type": "markdown",
   "id": "6ce45f5d",
   "metadata": {},
   "source": [
    "Task 5 — Scatter plot && Task 6 — Show the figure"
   ]
  },
  {
   "cell_type": "code",
   "execution_count": 12,
   "id": "b5b5c771",
   "metadata": {},
   "outputs": [
    {
     "data": {
      "image/png": "[encoded data removed]",
      "text/plain": [
       "<Figure size 640x480 with 1 Axes>"
      ]
     },
     "metadata": {},
     "output_type": "display_data"
    }
   ],
   "source": [
    "plt.scatter(df[\"temp\"] , df[\"rides\"])\n",
    "plt.xlabel(\"temperature\")\n",
    "plt.ylabel(\"rides\")\n",
    "plt.show()"
   ]
  }
 ],
 "metadata": {
  "kernelspec": {
   "display_name": ".venv",
   "language": "python",
   "name": "python3"
  },
  "language_info": {
   "codemirror_mode": {
    "name": "ipython",
    "version": 3
   },
   "file_extension": ".py",
   "mimetype": "text/x-python",
   "name": "python",
   "nbconvert_exporter": "python",
   "pygments_lexer": "ipython3",
   "version": "3.12.4"
  }
 },
 "nbformat": 4,
 "nbformat_minor": 5
}
