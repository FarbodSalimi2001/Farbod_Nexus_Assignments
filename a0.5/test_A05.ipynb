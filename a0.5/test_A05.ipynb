{
  "nbformat": 4,
  "nbformat_minor": 0,
  "metadata": {
    "colab": {
      "provenance": []
    },
    "kernelspec": {
      "name": "python3",
      "display_name": "Python 3"
    },
    "language_info": {
      "name": "python"
    }
  },
  "cells": [
    {
      "cell_type": "markdown",
      "source": [
        "# 📓 Assignment 5 — Probability\n",
        "\n",
        "## 🎲 Counting & Probability with Cards in Python 🃏\n",
        "Learn factorials, combinations, and (conditional) probability — all in one simple card game simulation using only math and random modules."
      ],
      "metadata": {
        "id": "tacMQNsG2g5S"
      }
    },
    {
      "cell_type": "markdown",
      "source": [
        "## 🧮 PART 1: Factorial & Combinations\n",
        "\n"
      ],
      "metadata": {
        "id": "_cA_dWDJ2vfr"
      }
    },
    {
      "cell_type": "code",
      "execution_count": 5,
      "metadata": {
        "id": "aIxoWeNt2ao0",
        "colab": {
          "base_uri": "https://localhost:8080/"
        },
        "outputId": "b430b2f2-c2a8-4dbd-a2bd-0058448150c8"
      },
      "outputs": [
        {
          "output_type": "stream",
          "name": "stdout",
          "text": [
            "6! = 720\n",
            "Combinations (6 choose 3): 20\n"
          ]
        }
      ],
      "source": [
        "# ---- FACTORIAL & COMBINATIONS ----\n",
        "\n",
        "import math\n",
        "print(\"6! =\", math.factorial(6))\n",
        "print(\"Combinations (6 choose 3):\", math.comb(6, 3))\n"
      ]
    },
    {
      "cell_type": "markdown",
      "source": [
        "## 🃏 PART 2: Simulating a Deck of Cards\n",
        "\n"
      ],
      "metadata": {
        "id": "pzy2xD3H3D3o"
      }
    },
    {
      "cell_type": "code",
      "source": [
        "# ---- PROBABILITY IN A DECK ----\n",
        "\n",
        "import random\n",
        "\n",
        "deck = [f\"{rank} of {suit}\" for suit in ['Hearts', 'Spades', 'Diamonds', 'Clubs']\n",
        "        for rank in range(1, 14)]\n",
        "\n",
        "# Draw 2 random cards\n",
        "\n",
        "draws = random.sample(deck, 2)\n",
        "print(\"\\nDrawn cards:\", draws)\n"
      ],
      "metadata": {
        "id": "eUvZhzYB2x4L",
        "colab": {
          "base_uri": "https://localhost:8080/"
        },
        "outputId": "434f154d-1d6e-4b5d-ffd4-6c770b9faf19"
      },
      "execution_count": 3,
      "outputs": [
        {
          "output_type": "stream",
          "name": "stdout",
          "text": [
            "\n",
            "Drawn cards: ['6 of Hearts', '9 of Clubs']\n"
          ]
        }
      ]
    },
    {
      "cell_type": "markdown",
      "source": [
        "## 📊 PART 3: Basic Probability"
      ],
      "metadata": {
        "id": "OidRYf9q3Mwj"
      }
    },
    {
      "cell_type": "code",
      "source": [
        "# PROBABILITY: What’s the chance that both cards are Hearts?\n",
        "\n",
        "hearts = [card for card in deck if \"Hearts\" in card]\n",
        "hearts\n",
        "prob_both_hearts = math.comb(13, 2) / math.comb(52, 2)\n",
        "print(f\"Probability both cards are Hearts: {prob_both_hearts:.4f}\")\n"
      ],
      "metadata": {
        "id": "Ok5d99Ns3Oa7",
        "colab": {
          "base_uri": "https://localhost:8080/"
        },
        "outputId": "5ebb0ad3-3f3e-4e01-fb79-c46b20a6b396"
      },
      "execution_count": 8,
      "outputs": [
        {
          "output_type": "stream",
          "name": "stdout",
          "text": [
            "Probability both cards are Hearts: 0.0588\n"
          ]
        }
      ]
    },
    {
      "cell_type": "markdown",
      "source": [
        "## 🔁 PART 4: Conditional Probability"
      ],
      "metadata": {
        "id": "NMIA7c313Yum"
      }
    },
    {
      "cell_type": "code",
      "source": [
        "# ---- CONDITIONAL PROBABILITY ----\n",
        "# P(A and B) / P(B): Probability second card is Heart given first was Heart\n",
        "# A = both are hearts, B = first is heart\n",
        "\n",
        "p_a_and_b = (math.comb(13, 2)) / math.comb(52, 2) # after one heart is drawn\n",
        "p_b = 13 / 52\n",
        "p_a_given_b = p_a_and_b / p_b\n",
        "print(f\"Conditional probability 2nd card is Heart given 1st is Heart: {p_a_given_b:.4f}\")\n"
      ],
      "metadata": {
        "id": "IZeCH8pw3aZX",
        "colab": {
          "base_uri": "https://localhost:8080/"
        },
        "outputId": "7f24e4ea-79c5-44d8-cf98-0501b5a1ccdf"
      },
      "execution_count": 10,
      "outputs": [
        {
          "output_type": "stream",
          "name": "stdout",
          "text": [
            "Conditional probability 2nd card is Heart given 1st is Heart: 0.2353\n"
          ]
        }
      ]
    }
  ]
}