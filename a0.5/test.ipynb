{
 "cells": [
  {
   "cell_type": "markdown",
   "id": "1e4c9b88",
   "metadata": {},
   "source": [
    "# PART 1: Factorial & Combinations"
   ]
  },
  {
   "cell_type": "code",
   "execution_count": 4,
   "id": "f9c486f2",
   "metadata": {},
   "outputs": [
    {
     "name": "stdout",
     "output_type": "stream",
     "text": [
      "6! = 720\n",
      "Combinations (6 choose 3): 20\n"
     ]
    }
   ],
   "source": [
    "import math\n",
    "print(\"6! =\", math.factorial(6))\n",
    "print(\"Combinations (6 choose 3):\", math.comb(6,3))"
   ]
  },
  {
   "cell_type": "markdown",
   "id": "ef4d228b",
   "metadata": {},
   "source": [
    "# PART 2: Simulating a Deck of Cards"
   ]
  },
  {
   "cell_type": "code",
   "execution_count": 5,
   "id": "6a1c1a55",
   "metadata": {},
   "outputs": [
    {
     "name": "stdout",
     "output_type": "stream",
     "text": [
      "\n",
      "Drawn cards: ['2 of Clubs', '4 of Spades']\n"
     ]
    }
   ],
   "source": [
    "import random\n",
    "\n",
    "deck = [f\"{rank} of {suit}\" for suit in ['Hearts', 'Spades', 'Diamonds', 'Clubs']\n",
    "        for rank in range(1, 14)]\n",
    "\n",
    "# Draw 2 random cards\n",
    "\n",
    "draws = random.sample(deck, 2)\n",
    "print(\"\\nDrawn cards:\", draws)"
   ]
  },
  {
   "cell_type": "markdown",
   "id": "672dd7dd",
   "metadata": {},
   "source": [
    "# PART 3: Basic Probability"
   ]
  },
  {
   "cell_type": "code",
   "execution_count": 6,
   "id": "12118d82",
   "metadata": {},
   "outputs": [
    {
     "name": "stdout",
     "output_type": "stream",
     "text": [
      "Probability both cards are Hearts: 0.0588\n"
     ]
    }
   ],
   "source": [
    "hearts = [card for card in deck if \"Hearts\" in card]\n",
    "prob_both_hearts = math.comb(len(hearts), 2) / math.comb(len(deck), 2)\n",
    "print(f\"Probability both cards are Hearts: {prob_both_hearts:.4f}\")"
   ]
  },
  {
   "cell_type": "markdown",
   "id": "6e296e6f",
   "metadata": {},
   "source": [
    "# PART 4: Conditional Probability"
   ]
  },
  {
   "cell_type": "code",
   "execution_count": 7,
   "id": "c6d7af31",
   "metadata": {},
   "outputs": [
    {
     "name": "stdout",
     "output_type": "stream",
     "text": [
      "Conditional probability 2nd card is Heart given 1st is Heart: 0.9412\n"
     ]
    }
   ],
   "source": [
    "p_a_and_b = math.comb(12, 1) / math.comb(51, 1) # after one heart is drawn\n",
    "p_b = 13 / 52\n",
    "p_a_given_b = p_a_and_b / p_b\n",
    "print(f\"Conditional probability 2nd card is Heart given 1st is Heart: {p_a_given_b:.4f}\")"
   ]
  }
 ],
 "metadata": {
  "kernelspec": {
   "display_name": ".venv",
   "language": "python",
   "name": "python3"
  },
  "language_info": {
   "codemirror_mode": {
    "name": "ipython",
    "version": 3
   },
   "file_extension": ".py",
   "mimetype": "text/x-python",
   "name": "python",
   "nbconvert_exporter": "python",
   "pygments_lexer": "ipython3",
   "version": "3.12.4"
  }
 },
 "nbformat": 4,
 "nbformat_minor": 5
}
